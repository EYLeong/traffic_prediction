{
 "cells": [
  {
   "cell_type": "code",
   "execution_count": 1,
   "metadata": {},
   "outputs": [],
   "source": [
    "%matplotlib inline \n",
    "\n",
    "import torch\n",
    "import torch.nn as nn\n",
    "import matplotlib.pyplot as plt\n",
    "\n",
    "import model\n",
    "import model_utils\n",
    "import preprocessing_utils"
   ]
  },
  {
   "cell_type": "code",
   "execution_count": 2,
   "metadata": {},
   "outputs": [
    {
     "data": {
      "text/plain": [
       "<torch._C.Generator at 0x7fe52e36c610>"
      ]
     },
     "execution_count": 2,
     "metadata": {},
     "output_type": "execute_result"
    }
   ],
   "source": [
    "torch.manual_seed(1234)"
   ]
  },
  {
   "cell_type": "code",
   "execution_count": 3,
   "metadata": {},
   "outputs": [],
   "source": [
    "device = torch.device('cuda' if torch.cuda.is_available() else 'cpu')\n",
    "\n",
    "epochs = 500\n",
    "batch_size = 16\n",
    "lr = 0.0005920310461116504\n",
    "patience = 10\n",
    "\n",
    "num_timesteps_input = 8 # 40 minutes\n",
    "num_timesteps_output = 4 # 20 minutes"
   ]
  },
  {
   "cell_type": "code",
   "execution_count": 4,
   "metadata": {},
   "outputs": [],
   "source": [
    "raw_trunc_dir = \"./data/raw/trunc/\"\n",
    "process_dir = \"./data/processed/\"\n",
    "\n",
    "preprocessing_utils.processed(raw_trunc_dir, process_dir, overwrite=False)\n",
    "A, X, metadata, cat2index, timestamps, means, stds = preprocessing_utils.load(process_dir)\n",
    "\n",
    "split_line1 = int(X.shape[2] * 0.6)\n",
    "split_line2 = int(X.shape[2] * 0.8)\n",
    "\n",
    "train_original_data = X[:, :, :split_line1]\n",
    "val_original_data = X[:, :, split_line1:split_line2]\n",
    "test_original_data = X[:, :, split_line2:]\n",
    "\n",
    "training_input, training_target = preprocessing_utils.generate_dataset(train_original_data,\n",
    "                                                   num_timesteps_input=num_timesteps_input,\n",
    "                                                   num_timesteps_output=num_timesteps_output)\n",
    "val_input, val_target = preprocessing_utils.generate_dataset(val_original_data,\n",
    "                                         num_timesteps_input=num_timesteps_input,\n",
    "                                         num_timesteps_output=num_timesteps_output)\n",
    "test_input, test_target = preprocessing_utils.generate_dataset(test_original_data,\n",
    "                                           num_timesteps_input=num_timesteps_input,\n",
    "                                           num_timesteps_output=num_timesteps_output)\n",
    "\n",
    "# input shape (num_samples ,num_vertices, num_timesteps_window, num_features)\n",
    "# output shape (num_samples ,num_vertices, num_timesteps_window)\n",
    "adj_mat = preprocessing_utils.get_normalized_adj(A)\n",
    "adj_mat = torch.from_numpy(adj_mat).float()"
   ]
  },
  {
   "cell_type": "code",
   "execution_count": 5,
   "metadata": {
    "scrolled": true
   },
   "outputs": [],
   "source": [
    "stgcn = model.Stgcn_Model(nodes_num = adj_mat.shape[0], features_num = training_input.shape[3],\n",
    "                    input_timesteps = num_timesteps_input, num_output = num_timesteps_output)\n",
    "\n",
    "optimizer = torch.optim.Adam(stgcn.parameters(), lr = lr)\n",
    "loss_criterion = nn.MSELoss()"
   ]
  },
  {
   "cell_type": "code",
   "execution_count": 6,
   "metadata": {},
   "outputs": [
    {
     "data": {
      "application/vnd.jupyter.widget-view+json": {
       "model_id": "dcd152536a8141eeb2ca3579f59f01ba",
       "version_major": 2,
       "version_minor": 0
      },
      "text/plain": [
       "HBox(children=(FloatProgress(value=0.0, max=500.0), HTML(value='')))"
      ]
     },
     "metadata": {},
     "output_type": "display_data"
    },
    {
     "name": "stdout",
     "output_type": "stream",
     "text": [
      "\n"
     ]
    }
   ],
   "source": [
    "stgcn.to(device)\n",
    "adj_mat = adj_mat.to(device)\n",
    "training_input = training_input.to(device)\n",
    "training_target = training_target.to(device)\n",
    "val_input = val_input.to(device)\n",
    "val_target = val_target.to(device)\n",
    "\n",
    "stgcn, training_loss, validation_loss = model_utils.train(stgcn, optimizer, lr, loss_criterion, epochs, patience, adj_mat,\n",
    "                  training_input, training_target, val_input, val_target, batch_size)"
   ]
  },
  {
   "cell_type": "code",
   "execution_count": 7,
   "metadata": {},
   "outputs": [
    {
     "data": {
      "image/png": "[encoded data removed]",
      "text/plain": [
       "<Figure size 432x288 with 1 Axes>"
      ]
     },
     "metadata": {
      "needs_background": "light"
     },
     "output_type": "display_data"
    }
   ],
   "source": [
    "plt.plot(training_loss, label = 'Training Loss')\n",
    "plt.plot(validation_loss, label = 'Validation Loss')\n",
    "plt.legend()\n",
    "plt.show()"
   ]
  },
  {
   "cell_type": "code",
   "execution_count": 8,
   "metadata": {},
   "outputs": [
    {
     "name": "stdout",
     "output_type": "stream",
     "text": [
      "0.47875237464904785\n"
     ]
    }
   ],
   "source": [
    "torch.manual_seed(1234)\n",
    "\n",
    "test_input = test_input.to(device)\n",
    "test_target = test_target.to(device)\n",
    "\n",
    "with torch.no_grad():\n",
    "    test_loss = model_utils.validate(stgcn, loss_criterion, test_input, test_target, adj_mat, batch_size)\n",
    "    print(test_loss)"
   ]
  },
  {
   "cell_type": "code",
   "execution_count": 9,
   "metadata": {},
   "outputs": [],
   "source": [
    "results = model_utils.predict(stgcn, test_input, adj_mat)"
   ]
  },
  {
   "cell_type": "code",
   "execution_count": 10,
   "metadata": {},
   "outputs": [
    {
     "name": "stdout",
     "output_type": "stream",
     "text": [
      "Model has been saved to path : ./saved_models/20210502/18_20_54\n"
     ]
    }
   ],
   "source": [
    "model_utils.save_model(stgcn,optimizer)"
   ]
  },
  {
   "cell_type": "code",
   "execution_count": 15,
   "metadata": {},
   "outputs": [
    {
     "name": "stdout",
     "output_type": "stream",
     "text": [
      "Loading model in path : ./saved_models/20210502/18_20_54\n"
     ]
    }
   ],
   "source": [
    "loaded_model, loaded_optimizer = model_utils.load_model(path=None)"
   ]
  },
  {
   "cell_type": "code",
   "execution_count": 16,
   "metadata": {},
   "outputs": [
    {
     "name": "stdout",
     "output_type": "stream",
     "text": [
      "0.47875237464904785\n"
     ]
    }
   ],
   "source": [
    "torch.manual_seed(1234)\n",
    "\n",
    "#Testing loaded model\n",
    "loaded_model.to(device)\n",
    "\n",
    "with torch.no_grad():\n",
    "    test_loss = model_utils.validate(loaded_model, loss_criterion, test_input, test_target, adj_mat, batch_size)\n",
    "    print(test_loss)"
   ]
  },
  {
   "cell_type": "code",
   "execution_count": null,
   "metadata": {},
   "outputs": [],
   "source": []
  }
 ],
 "metadata": {
  "kernelspec": {
   "display_name": "Python 3",
   "language": "python",
   "name": "python3"
  },
  "language_info": {
   "codemirror_mode": {
    "name": "ipython",
    "version": 3
   },
   "file_extension": ".py",
   "mimetype": "text/x-python",
   "name": "python",
   "nbconvert_exporter": "python",
   "pygments_lexer": "ipython3",
   "version": "3.6.10"
  }
 },
 "nbformat": 4,
 "nbformat_minor": 4
}
