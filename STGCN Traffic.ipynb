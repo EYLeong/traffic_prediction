{
 "cells": [
  {
   "cell_type": "code",
   "execution_count": 1,
   "metadata": {},
   "outputs": [],
   "source": [
    "%matplotlib inline \n",
    "\n",
    "import math\n",
    "import copy\n",
    "\n",
    "import torch\n",
    "import torch.nn as nn\n",
    "import torch.nn.functional as F\n",
    "import matplotlib.pyplot as plt\n",
    "\n",
    "import model\n",
    "import model_utils\n",
    "import preprocessing_utils\n",
    "\n",
    "#to be put under model.py when I refactor\n",
    "from tqdm.notebook import tqdm"
   ]
  },
  {
   "cell_type": "code",
   "execution_count": 2,
   "metadata": {},
   "outputs": [
    {
     "data": {
      "text/plain": [
       "<torch._C.Generator at 0x7efc77ac64d0>"
      ]
     },
     "execution_count": 2,
     "metadata": {},
     "output_type": "execute_result"
    }
   ],
   "source": [
    "torch.manual_seed(1234)"
   ]
  },
  {
   "cell_type": "code",
   "execution_count": 3,
   "metadata": {},
   "outputs": [],
   "source": [
    "device = torch.device('cuda' if torch.cuda.is_available() else 'cpu')\n",
    "\n",
    "epochs = 500\n",
    "batch_size = 16\n",
    "lr = 0.0005920310461116504\n",
    "patience = 10\n",
    "\n",
    "num_timesteps_input = 7 # Default is 30 minutes\n",
    "num_timesteps_output = 4 # Default is 10 minutes"
   ]
  },
  {
   "cell_type": "code",
   "execution_count": 4,
   "metadata": {},
   "outputs": [],
   "source": [
    "raw_trunc_dir = \"./data/raw/trunc/\"\n",
    "process_dir = \"./data/processed/\"\n",
    "\n",
    "# overwrite = False means that the processing function will only run if the process data files do not exist\n",
    "# overwrite = True => functions will run regardless\n",
    "preprocessing_utils.processed(raw_trunc_dir, process_dir, overwrite=False)\n",
    "A, X, metadata, cat2index, means, stds = preprocessing_utils.load(process_dir)\n",
    "\n",
    "split_line1 = int(X.shape[2] * 0.6)\n",
    "split_line2 = int(X.shape[2] * 0.8)\n",
    "\n",
    "train_original_data = X[:, :, :split_line1]\n",
    "val_original_data = X[:, :, split_line1:split_line2]\n",
    "test_original_data = X[:, :, split_line2:]\n",
    "\n",
    "training_input, training_target = preprocessing_utils.generate_dataset(train_original_data,\n",
    "                                                   num_timesteps_input=num_timesteps_input,\n",
    "                                                   num_timesteps_output=num_timesteps_output)\n",
    "val_input, val_target = preprocessing_utils.generate_dataset(val_original_data,\n",
    "                                         num_timesteps_input=num_timesteps_input,\n",
    "                                         num_timesteps_output=num_timesteps_output)\n",
    "test_input, test_target = preprocessing_utils.generate_dataset(test_original_data,\n",
    "                                           num_timesteps_input=num_timesteps_input,\n",
    "                                           num_timesteps_output=num_timesteps_output)\n",
    "\n",
    "# input shape (num_samples ,num_vertices, num_timesteps_window, num_features)\n",
    "# output shape (num_samples ,num_vertices, num_timesteps_window)\n",
    "adj_mat = preprocessing_utils.get_normalized_adj(A)\n",
    "adj_mat = torch.from_numpy(adj_mat).to(device)"
   ]
  },
  {
   "cell_type": "code",
   "execution_count": 5,
   "metadata": {},
   "outputs": [],
   "source": [
    "def train(x_input, x_target, batch_size):\n",
    "    \"\"\"\n",
    "    Train function per epoch\n",
    "    \"\"\"\n",
    "    \n",
    "    stgcn.train()\n",
    "    \n",
    "    num_samples = x_input.shape[0]\n",
    "    shuffled_order = torch.randperm(num_samples)\n",
    "    \n",
    "    training_loss = []\n",
    "    \n",
    "    for i in range(math.ceil(num_samples / batch_size)):\n",
    "\n",
    "        optimizer.zero_grad()\n",
    "        \n",
    "        start = i * batch_size\n",
    "        batch = shuffled_order[start:start+batch_size]\n",
    "        \n",
    "        x_batch = x_input[batch].to(device = device)\n",
    "        y_batch = x_target[batch].to(device = device)\n",
    "        \n",
    "        out = stgcn(adj_mat, x_batch)\n",
    "        loss = loss_criterion(out, y_batch)\n",
    "        loss.backward()\n",
    "        optimizer.step()\n",
    "        \n",
    "        training_loss.append(loss.detach().cpu().numpy())\n",
    "        \n",
    "    return sum(training_loss) / len(training_loss)"
   ]
  },
  {
   "cell_type": "code",
   "execution_count": 6,
   "metadata": {
    "scrolled": true
   },
   "outputs": [
    {
     "data": {
      "application/vnd.jupyter.widget-view+json": {
       "model_id": "da218ba6c4c6486fbbdde53e4e022059",
       "version_major": 2,
       "version_minor": 0
      },
      "text/plain": [
       "HBox(children=(FloatProgress(value=0.0, max=500.0), HTML(value='')))"
      ]
     },
     "metadata": {},
     "output_type": "display_data"
    },
    {
     "name": "stdout",
     "output_type": "stream",
     "text": [
      "\n"
     ]
    }
   ],
   "source": [
    "stgcn = model.Stgcn_Model(nodes_num = adj_mat.shape[0], features_num = training_input.shape[3],\n",
    "                    input_timesteps = num_timesteps_input, num_output = num_timesteps_output).to(device = device)\n",
    "\n",
    "optimizer = torch.optim.Adam(stgcn.parameters(), lr = lr)\n",
    "loss_criterion = nn.MSELoss()\n",
    "\n",
    "best_loss = float(\"inf\")\n",
    "early_stop = 0\n",
    "best_weights = None\n",
    "\n",
    "training_loss = []\n",
    "validation_loss = []\n",
    "\n",
    "pbar = tqdm(range(epochs))\n",
    "for epoch in pbar:\n",
    "    \n",
    "    pbar.set_description(f\"Epoch {epoch}\")\n",
    "    \n",
    "    loss = train(training_input, training_target, batch_size)\n",
    "    training_loss.append(loss)\n",
    "\n",
    "    with torch.no_grad():\n",
    "        val_loss = model_utils.validate(stgcn, loss_criterion, val_input, val_target, adj_mat, batch_size, device)\n",
    "        validation_loss.append(val_loss.item())\n",
    "    \n",
    "    pbar.set_postfix(training_loss=loss, validation_loss=val_loss.item())\n",
    "        \n",
    "    if val_loss < best_loss:\n",
    "        early_stop = 0\n",
    "        best_loss = val_loss\n",
    "        best_weights = copy.deepcopy(stgcn.state_dict())\n",
    "    else:\n",
    "        early_stop += 1\n",
    "                \n",
    "    if early_stop == patience:\n",
    "        stgcn.load_state_dict(best_weights)\n",
    "        break\n",
    "\n",
    "\n",
    "#For Model saving purposes\n",
    "stgcn.lr = lr \n",
    "stgcn.nodes_num = adj_mat.shape[0]\n",
    "stgcn.features_num = training_input.shape[3]\n",
    "stgcn.input_timesteps = num_timesteps_input\n",
    "stgcn.num_output = num_timesteps_output"
   ]
  },
  {
   "cell_type": "code",
   "execution_count": 7,
   "metadata": {},
   "outputs": [
    {
     "data": {
      "image/png": "[encoded data removed]",
      "text/plain": [
       "<Figure size 432x288 with 1 Axes>"
      ]
     },
     "metadata": {
      "needs_background": "light"
     },
     "output_type": "display_data"
    }
   ],
   "source": [
    "plt.plot(training_loss, label = 'Training Loss')\n",
    "plt.plot(validation_loss, label = 'Validation Loss')\n",
    "plt.legend()\n",
    "plt.show()"
   ]
  },
  {
   "cell_type": "code",
   "execution_count": 8,
   "metadata": {},
   "outputs": [
    {
     "name": "stdout",
     "output_type": "stream",
     "text": [
      "tensor(0.4810)\n"
     ]
    }
   ],
   "source": [
    "torch.manual_seed(1234)\n",
    "\n",
    "with torch.no_grad():\n",
    "    test_loss = model_utils.validate(stgcn, loss_criterion, test_input, test_target, adj_mat, batch_size, device)\n",
    "    print(test_loss)"
   ]
  },
  {
   "cell_type": "code",
   "execution_count": 9,
   "metadata": {},
   "outputs": [],
   "source": [
    "results = model_utils.predict(stgcn, test_input, adj_mat)"
   ]
  },
  {
   "cell_type": "code",
   "execution_count": 10,
   "metadata": {},
   "outputs": [],
   "source": [
    "#print(preprocessing_utils.denormalize(results, stds[0], means[0]))"
   ]
  },
  {
   "cell_type": "code",
   "execution_count": 11,
   "metadata": {},
   "outputs": [],
   "source": [
    "#print(preprocessing_utils.denormalize(test_target, stds[0], means[0]))"
   ]
  },
  {
   "cell_type": "code",
   "execution_count": 12,
   "metadata": {},
   "outputs": [
    {
     "name": "stdout",
     "output_type": "stream",
     "text": [
      "Model has been saved to path : ./saved_models/20210430/15_07_55\n"
     ]
    }
   ],
   "source": [
    "model_utils.save_model(stgcn,optimizer)"
   ]
  },
  {
   "cell_type": "code",
   "execution_count": 13,
   "metadata": {},
   "outputs": [
    {
     "name": "stdout",
     "output_type": "stream",
     "text": [
      "Loading model in path : ./saved_models/20210430/15_07_55\n"
     ]
    }
   ],
   "source": [
    "loaded_model, loaded_optimizer = model_utils.load_model(path=None)"
   ]
  },
  {
   "cell_type": "code",
   "execution_count": 14,
   "metadata": {},
   "outputs": [
    {
     "name": "stdout",
     "output_type": "stream",
     "text": [
      "tensor(0.4810)\n"
     ]
    }
   ],
   "source": [
    "torch.manual_seed(1234)\n",
    "\n",
    "#Testing loaded model\n",
    "loaded_model.to(device)\n",
    "\n",
    "with torch.no_grad():\n",
    "    test_loss = model_utils.validate(loaded_model, loss_criterion, test_input, test_target, adj_mat, batch_size, device)\n",
    "    print(test_loss)"
   ]
  },
  {
   "cell_type": "code",
   "execution_count": null,
   "metadata": {},
   "outputs": [],
   "source": []
  }
 ],
 "metadata": {
  "kernelspec": {
   "display_name": "Python 3",
   "language": "python",
   "name": "python3"
  },
  "language_info": {
   "codemirror_mode": {
    "name": "ipython",
    "version": 3
   },
   "file_extension": ".py",
   "mimetype": "text/x-python",
   "name": "python",
   "nbconvert_exporter": "python",
   "pygments_lexer": "ipython3",
   "version": "3.6.10"
  }
 },
 "nbformat": 4,
 "nbformat_minor": 4
}
