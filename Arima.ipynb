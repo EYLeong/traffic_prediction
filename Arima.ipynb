{
 "cells": [
  {
   "cell_type": "code",
   "execution_count": 1,
   "id": "efe39bce",
   "metadata": {},
   "outputs": [
    {
     "name": "stderr",
     "output_type": "stream",
     "text": [
      "<ipython-input-1-ce94da36370f>:4: FutureWarning: The pandas.datetime class is deprecated and will be removed from pandas in a future version. Import from datetime module instead.\n",
      "  from pandas import datetime\n"
     ]
    }
   ],
   "source": [
    "import pandas as pd\n",
    "import numpy as np\n",
    "from pandas import read_csv\n",
    "from pandas import datetime\n",
    "import matplotlib.pyplot as plt\n",
    "from pandas.plotting import autocorrelation_plot\n",
    "import model, model_utils, preprocessing_utils\n",
    "import torch\n",
    "import torch.nn as nn"
   ]
  },
  {
   "cell_type": "code",
   "execution_count": 2,
   "id": "6c313c8e",
   "metadata": {},
   "outputs": [],
   "source": [
    "# if using seasonal ARIMA\n",
    "m = 12 # 60 minutes"
   ]
  },
  {
   "cell_type": "code",
   "execution_count": 37,
   "id": "268397f2",
   "metadata": {},
   "outputs": [],
   "source": [
    "raw_trunc_dir = \"./data/raw/trunc/\"\n",
    "process_dir = \"./data/processed/\"\n",
    "\n",
    "# overwrite = False means that the processing function will only run if the process data files do not exist\n",
    "# overwrite = True => functions will run regardless\n",
    "preprocessing_utils.processed(raw_trunc_dir, process_dir, overwrite=False)\n",
    "A, X, metadata, cat2index,timestamps, means, stds = preprocessing_utils.load(process_dir)\n",
    "\n",
    "split_line1 = int(X.shape[2] * 0.6)\n",
    "split_line2 = int(X.shape[2] * 0.8)\n",
    "\n",
    "train_original_data = X[:, :, :split_line1]\n",
    "val_original_data = X[:, :, split_line1:split_line2]\n",
    "test_original_data = X[:, :, split_line2:]\n",
    "\n",
    "adj_mat = preprocessing_utils.get_normalized_adj(A)\n",
    "# adj_mat = torch.from_numpy(adj_mat).to(device)"
   ]
  },
  {
   "cell_type": "markdown",
   "id": "0ea8b735",
   "metadata": {},
   "source": [
    "# Finding the road to be used as comparison"
   ]
  },
  {
   "cell_type": "code",
   "execution_count": 38,
   "id": "931aa609",
   "metadata": {},
   "outputs": [],
   "source": [
    "device = torch.device('cuda' if torch.cuda.is_available() else 'cpu')\n",
    "\n",
    "epochs = 500\n",
    "batch_size = 16\n",
    "lr = 0.0005920310461116504\n",
    "patience = 10\n",
    "\n",
    "num_timesteps_input = 7 # Default is 30 minutes\n",
    "num_timesteps_output = 4 # Default is 10 minutes"
   ]
  },
  {
   "cell_type": "code",
   "execution_count": 39,
   "id": "ff857f65",
   "metadata": {},
   "outputs": [
    {
     "name": "stdout",
     "output_type": "stream",
     "text": [
      "Loading model in path : saved_models/input8_output4_loss0.6965036988258362\n"
     ]
    }
   ],
   "source": [
    "# loaded_model, loaded_optimizer = model_utils.load_model(path=None)\n",
    "loaded_model, loaded_optimizer = model_utils.load_model(path=\"saved_models/input8_output4_loss0.6965036988258362\")"
   ]
  },
  {
   "cell_type": "code",
   "execution_count": 129,
   "id": "62260917",
   "metadata": {},
   "outputs": [
    {
     "ename": "TypeError",
     "evalue": "expected np.ndarray (got Tensor)",
     "output_type": "error",
     "traceback": [
      "\u001b[1;31m---------------------------------------------------------------------------\u001b[0m",
      "\u001b[1;31mTypeError\u001b[0m                                 Traceback (most recent call last)",
      "\u001b[1;32m<ipython-input-129-abed019112ea>\u001b[0m in \u001b[0;36m<module>\u001b[1;34m\u001b[0m\n\u001b[0;32m      4\u001b[0m                                            \u001b[0mnum_timesteps_input\u001b[0m\u001b[1;33m=\u001b[0m\u001b[0mnum_timesteps_input\u001b[0m\u001b[1;33m,\u001b[0m\u001b[1;33m\u001b[0m\u001b[1;33m\u001b[0m\u001b[0m\n\u001b[0;32m      5\u001b[0m                                            num_timesteps_output=num_timesteps_output)\n\u001b[1;32m----> 6\u001b[1;33m \u001b[0madj_mat\u001b[0m \u001b[1;33m=\u001b[0m \u001b[0mtorch\u001b[0m\u001b[1;33m.\u001b[0m\u001b[0mfrom_numpy\u001b[0m\u001b[1;33m(\u001b[0m\u001b[0madj_mat\u001b[0m\u001b[1;33m)\u001b[0m\u001b[1;33m.\u001b[0m\u001b[0mto\u001b[0m\u001b[1;33m(\u001b[0m\u001b[0mdevice\u001b[0m\u001b[1;33m)\u001b[0m\u001b[1;33m\u001b[0m\u001b[1;33m\u001b[0m\u001b[0m\n\u001b[0m",
      "\u001b[1;31mTypeError\u001b[0m: expected np.ndarray (got Tensor)"
     ]
    }
   ],
   "source": [
    "num_timesteps_input = 8\n",
    "num_timesteps_output = 4\n",
    "test_input, test_target = preprocessing_utils.generate_dataset(test_original_data,\n",
    "                                           num_timesteps_input=num_timesteps_input,\n",
    "                                           num_timesteps_output=num_timesteps_output)\n",
    "adj_mat = torch.from_numpy(adj_mat).to(device)"
   ]
  },
  {
   "cell_type": "code",
   "execution_count": 131,
   "id": "65572201",
   "metadata": {},
   "outputs": [],
   "source": [
    "from sklearn.metrics import mean_squared_error\n",
    "import model, model_utils, preprocessing_utils\n",
    "import math\n",
    "\n",
    "loaded_model.to(device)\n",
    "with torch.no_grad():\n",
    "    predicted = model_utils.predict(loaded_model, test_input, adj_mat)"
   ]
  },
  {
   "cell_type": "code",
   "execution_count": 133,
   "id": "f5dbab86",
   "metadata": {},
   "outputs": [],
   "source": [
    "# Enyi functions\n",
    "import torch.nn as nn\n",
    "def rmse_per_link(predicted, actual):\n",
    "    '''\n",
    "    Calculates the RMSE of the speedbands for each road separately\n",
    "    -----------------------------\n",
    "    :params:\n",
    "        list (3-dimensions of samples, roads, output timesteps) predicted: The predicted speedbands\n",
    "        list (3-dimensions of samples, roads, output timesteps) actual: The actual speedbands\n",
    "    -----------------------------\n",
    "    :returns:\n",
    "        list: rmse for each road\n",
    "    '''\n",
    "    rmses = []\n",
    "    for i in range(predicted.shape[1]):\n",
    "        linkPreds = predicted[:,i,:]\n",
    "        linkActs = actual[:,i,:]\n",
    "        rmse = nn.MSELoss()(linkPreds, linkActs).sqrt()\n",
    "        rmses.append(rmse.item())\n",
    "    return rmses"
   ]
  },
  {
   "cell_type": "code",
   "execution_count": 138,
   "id": "2c4af100",
   "metadata": {},
   "outputs": [
    {
     "name": "stdout",
     "output_type": "stream",
     "text": [
      "1.0277539491653442\n"
     ]
    }
   ],
   "source": [
    "predicted_denorm = preprocessing_utils.denormalize(predicted.to(\"cpu\"), stds[0], means[0])\n",
    "actual_denorm = preprocessing_utils.denormalize(test_target, stds[0], means[0])\n",
    "stgcn_rmse_per_link = rmse_per_link(predicted_denorm.to(device=\"cpu\"),actual_denorm)\n",
    "worst_road_index = np.argmax(stgcn_rmse_per_link)\n",
    "print(stgcn_rmse_per_link[worst_road_index])"
   ]
  },
  {
   "cell_type": "markdown",
   "id": "8e1eda89",
   "metadata": {},
   "source": [
    "# Evaluating ARIMA"
   ]
  },
  {
   "cell_type": "code",
   "execution_count": null,
   "id": "3e402477",
   "metadata": {},
   "outputs": [],
   "source": [
    "train_original_speedband = train_original_data[:,0,:] # (roads, num_of_timesteps)\n",
    "val_original_data_speedband = val_original_data[:,0,:] # (roads, num_of_timesteps)\n",
    "test_original_data_speedband = test_original_data[:,0,:] # (roads, num_of_timesteps)\n",
    "\n",
    "train = train_original_speedband[0].flatten() # choose only 1 road\n",
    "val = val_original_data_speedband[0].flatten() # choose only 1 road\n",
    "test = test_original_data_speedband[0].flatten() # choose only 1 road\n",
    "\n",
    "train_val = np.append(train,val)\n",
    "dataAll = np.concatenate([train,val,test])\n",
    "\n",
    "train_denorm = preprocessing_utils.denormalize(train, stds[0], means[0]).flatten()\n",
    "train_val_denorm = preprocessing_utils.denormalize(train_val, stds[0], means[0]).flatten()\n",
    "dataAll_denorm = preprocessing_utils.denormalize(dataAll, stds[0], means[0]).flatten()\n",
    "test_denorm = preprocessing_utils.denormalize(test, stds[0], means[0]).flatten()"
   ]
  },
  {
   "cell_type": "code",
   "execution_count": 162,
   "id": "16975469",
   "metadata": {},
   "outputs": [
    {
     "name": "stdout",
     "output_type": "stream",
     "text": [
      "Performing stepwise search to minimize aic\n",
      " ARIMA(2,0,2)(0,0,0)[0] intercept   : AIC=14819.051, Time=7.95 sec\n",
      " ARIMA(0,0,0)(0,0,0)[0] intercept   : AIC=19299.326, Time=0.09 sec\n",
      " ARIMA(1,0,0)(0,0,0)[0] intercept   : AIC=14935.508, Time=0.47 sec\n",
      " ARIMA(0,0,1)(0,0,0)[0] intercept   : AIC=16313.746, Time=0.72 sec\n",
      " ARIMA(0,0,0)(0,0,0)[0]             : AIC=20170.774, Time=0.05 sec\n",
      " ARIMA(1,0,2)(0,0,0)[0] intercept   : AIC=14921.552, Time=1.24 sec\n",
      " ARIMA(2,0,1)(0,0,0)[0] intercept   : AIC=14921.700, Time=2.17 sec\n",
      " ARIMA(3,0,2)(0,0,0)[0] intercept   : AIC=14876.480, Time=8.48 sec\n",
      " ARIMA(2,0,3)(0,0,0)[0] intercept   : AIC=14802.190, Time=7.01 sec\n",
      " ARIMA(1,0,3)(0,0,0)[0] intercept   : AIC=14896.876, Time=3.31 sec\n",
      " ARIMA(3,0,3)(0,0,0)[0] intercept   : AIC=14808.989, Time=8.06 sec\n",
      " ARIMA(2,0,4)(0,0,0)[0] intercept   : AIC=14798.591, Time=7.62 sec\n",
      " ARIMA(1,0,4)(0,0,0)[0] intercept   : AIC=14809.961, Time=4.22 sec\n",
      " ARIMA(3,0,4)(0,0,0)[0] intercept   : AIC=14806.050, Time=10.77 sec\n",
      " ARIMA(2,0,5)(0,0,0)[0] intercept   : AIC=14799.549, Time=10.10 sec\n",
      " ARIMA(1,0,5)(0,0,0)[0] intercept   : AIC=14798.084, Time=6.24 sec\n",
      " ARIMA(0,0,5)(0,0,0)[0] intercept   : AIC=14974.776, Time=2.25 sec\n",
      " ARIMA(0,0,4)(0,0,0)[0] intercept   : AIC=15011.469, Time=1.88 sec\n",
      " ARIMA(1,0,5)(0,0,0)[0]             : AIC=14819.648, Time=3.80 sec\n",
      "\n",
      "Best model:  ARIMA(1,0,5)(0,0,0)[0] intercept\n",
      "Total fit time: 86.435 seconds\n",
      "                               SARIMAX Results                                \n",
      "==============================================================================\n",
      "Dep. Variable:                      y   No. Observations:                 5997\n",
      "Model:               SARIMAX(1, 0, 5)   Log Likelihood               -7391.042\n",
      "Date:                Sun, 02 May 2021   AIC                          14798.084\n",
      "Time:                        21:38:34   BIC                          14851.677\n",
      "Sample:                             0   HQIC                         14816.696\n",
      "                               - 5997                                         \n",
      "Covariance Type:                  opg                                         \n",
      "==============================================================================\n",
      "                 coef    std err          z      P>|z|      [0.025      0.975]\n",
      "------------------------------------------------------------------------------\n",
      "intercept      0.0116      0.004      3.296      0.001       0.005       0.018\n",
      "ar.L1          0.9758      0.005    187.898      0.000       0.966       0.986\n",
      "ma.L1         -0.2393      0.013    -18.391      0.000      -0.265      -0.214\n",
      "ma.L2         -0.2355      0.012    -19.034      0.000      -0.260      -0.211\n",
      "ma.L3         -0.1882      0.012    -16.089      0.000      -0.211      -0.165\n",
      "ma.L4         -0.1175      0.012    -10.052      0.000      -0.140      -0.095\n",
      "ma.L5         -0.0484      0.012     -4.153      0.000      -0.071      -0.026\n",
      "sigma2         0.6886      0.007     92.929      0.000       0.674       0.703\n",
      "===================================================================================\n",
      "Ljung-Box (L1) (Q):                   0.00   Jarque-Bera (JB):              9988.39\n",
      "Prob(Q):                              0.95   Prob(JB):                         0.00\n",
      "Heteroskedasticity (H):               1.07   Skew:                             0.43\n",
      "Prob(H) (two-sided):                  0.13   Kurtosis:                         9.26\n",
      "===================================================================================\n",
      "\n",
      "Warnings:\n",
      "[1] Covariance matrix calculated using the outer product of gradients (complex-step).\n"
     ]
    }
   ],
   "source": [
    "import pmdarima as pm\n",
    "train_val = np.append(train,val)\n",
    "\n",
    "# Fit your model\n",
    "# road 3\n",
    "road = 3\n",
    "train_fit = np.concatenate([train_original_speedband[road],val_original_data_speedband[road]])\n",
    "model = pm.auto_arima(train_fit,\n",
    "    trace=True,\n",
    "    suppress_warning=True)\n",
    "\n",
    "# summary of fit model\n",
    "print(model.summary())"
   ]
  },
  {
   "cell_type": "code",
   "execution_count": 172,
   "id": "302a1e22",
   "metadata": {},
   "outputs": [],
   "source": [
    "# get RMSE\n",
    "def evaluate_RMSE(model, ):\n",
    "    # model = ARIMA(,order=(3,1,1))\n",
    "    num_of_input = 7\n",
    "    current_input = train_val[-num_of_input:].tolist()\n",
    "\n",
    "    limit = len(test)\n",
    "    num_of_pred = 1\n",
    "    pred = []\n",
    "    for i in range(0,len(test[:limit]), num_of_pred):\n",
    "        model.fit(current_input)\n",
    "        y = model.predict(n_periods=num_of_pred)\n",
    "        pred.extend(y)\n",
    "\n",
    "        current_input.pop()\n",
    "        current_input.extend(test[i:i+1])\n",
    "\n",
    "def rmse(predictions, targets):\n",
    "    size = len(predictions)\n",
    "    diff = predictions - targets\n",
    "    square = diff ** 2\n",
    "    rmse = 1/size * (square ** 1/2).sum()\n",
    "    return np.sqrt(((predictions - targets) ** 2).mean())"
   ]
  },
  {
   "cell_type": "code",
   "execution_count": 173,
   "id": "032970bb",
   "metadata": {},
   "outputs": [],
   "source": [
    "def evaluate_arima(model, test_original_data, road, num_timesteps_input, num_timesteps_output):\n",
    "    \"\"\"\n",
    "    params:\n",
    "        model: \n",
    "        test_original_data: list\n",
    "        road: int\n",
    "        num_timesteps_input: int\n",
    "        num_timesteps_output: int\n",
    "    \"\"\"\n",
    "    num_timesteps_input = num_timesteps_input\n",
    "    num_timesteps_output = num_timesteps_output\n",
    "    test_input, test_target = preprocessing_utils.generate_dataset(test_original_data,\n",
    "                                           num_timesteps_input=num_timesteps_input,\n",
    "                                           num_timesteps_output=num_timesteps_output)\n",
    "    road = road # worst road\n",
    "    total_road = 53\n",
    "\n",
    "    print(f\"Evaluating road {road}\")\n",
    "    \n",
    "    all_predictions = []\n",
    "    all_actuals = []\n",
    "    \n",
    "    for x,y in zip(test_input[:,:,:,0],test_target):\n",
    "    #     m = ARIMA(x[road].numpy(),order=order)\n",
    "    #     m_fit = m.fit()\n",
    "    #     output = m_fit.forecast(steps=num_timesteps_output)\n",
    "        m_fit = model.fit(x[road].numpy())\n",
    "        output = m_fit.predict(n_periods=num_timesteps_output)\n",
    "\n",
    "        # denormalise\n",
    "        predictions = preprocessing_utils.denormalize(output, stds[0], means[0]).flatten()\n",
    "        actuals = preprocessing_utils.denormalize(y[road], stds[0], means[0]).flatten()\n",
    "        \n",
    "        all_predictions.append(predictions)\n",
    "        all_actuals.append(actuals.numpy())\n",
    "        \n",
    "    # calculate RMSE\n",
    "    rmse = nn.MSELoss()(torch.tensor(all_predictions), torch.tensor(all_actuals)).sqrt()\n",
    "    print(f\"With input timestep {num_timesteps_input} and output timestep {num_timesteps_output}, loss = {rmse}\")\n",
    "    return all_predictions,all_actuals"
   ]
  },
  {
   "cell_type": "code",
   "execution_count": 174,
   "id": "08b81e0f",
   "metadata": {},
   "outputs": [
    {
     "name": "stdout",
     "output_type": "stream",
     "text": [
      "Evaluating road 3\n",
      "With input timestep 8 and output timestep 4, loss = 1.2557712703742772\n"
     ]
    }
   ],
   "source": [
    "pred2, act2 = evaluate_arima(model, test_original_data, 3, 8, 4)"
   ]
  },
  {
   "cell_type": "code",
   "execution_count": 184,
   "id": "bae2dd73",
   "metadata": {},
   "outputs": [
    {
     "name": "stdout",
     "output_type": "stream",
     "text": [
      "Evaluating road 3\n",
      "With input timestep 8 and output timestep 1, loss = 1.1683396349571813\n",
      "Evaluating road 3\n",
      "With input timestep 8 and output timestep 2, loss = 1.2254906434045825\n",
      "Evaluating road 3\n",
      "With input timestep 8 and output timestep 3, loss = 1.2473878924872566\n",
      "Evaluating road 3\n",
      "With input timestep 8 and output timestep 4, loss = 1.2557712703742772\n",
      "Evaluating road 3\n",
      "With input timestep 8 and output timestep 5, loss = 1.2575966723804726\n",
      "Evaluating road 3\n",
      "With input timestep 8 and output timestep 6, loss = 1.2571616381597812\n"
     ]
    }
   ],
   "source": [
    "p381,a381=evaluate_arima(model, test_original_data, 3, 8, 1)\n",
    "p382,a382=evaluate_arima(model, test_original_data, 3, 8, 2)\n",
    "p383,a383=evaluate_arima(model, test_original_data, 3, 8, 3)\n",
    "p384,a384=evaluate_arima(model, test_original_data, 3, 8, 4)\n",
    "p385,a385=evaluate_arima(model, test_original_data, 3, 8, 5)\n",
    "p386,a386=evaluate_arima(model, test_original_data, 3, 8, 6)"
   ]
  },
  {
   "cell_type": "code",
   "execution_count": 185,
   "id": "eaf8382c",
   "metadata": {},
   "outputs": [
    {
     "name": "stdout",
     "output_type": "stream",
     "text": [
      "Evaluating road 3\n",
      "With input timestep 25 and output timestep 1, loss = 1.0598665555145472\n",
      "Evaluating road 3\n",
      "With input timestep 25 and output timestep 2, loss = 1.1592797699181716\n",
      "Evaluating road 3\n",
      "With input timestep 25 and output timestep 3, loss = 1.206177411372162\n",
      "Evaluating road 3\n",
      "With input timestep 25 and output timestep 4, loss = 1.2228858017397903\n",
      "Evaluating road 3\n",
      "With input timestep 25 and output timestep 5, loss = 1.225898456959899\n",
      "Evaluating road 3\n",
      "With input timestep 25 and output timestep 6, loss = 1.2199593151157317\n"
     ]
    }
   ],
   "source": [
    "p3251,a3251=evaluate_arima(model, test_original_data, 3, 25, 1)\n",
    "p3252,a3252=evaluate_arima(model, test_original_data, 3, 25, 2)\n",
    "p3253,a3253=evaluate_arima(model, test_original_data, 3, 25, 3)\n",
    "p3254,a3254=evaluate_arima(model, test_original_data, 3, 25, 4)\n",
    "p3255,a3255=evaluate_arima(model, test_original_data, 3, 25, 5)\n",
    "p3256,a3256=evaluate_arima(model, test_original_data, 3, 25, 6)"
   ]
  },
  {
   "cell_type": "code",
   "execution_count": null,
   "id": "e6638a2f",
   "metadata": {},
   "outputs": [
    {
     "name": "stdout",
     "output_type": "stream",
     "text": [
      "Evaluating road 3\n"
     ]
    }
   ],
   "source": [
    "p3251,a3251=evaluate_arima(model, test_original_data, 3, 50, 1)\n",
    "p3251,a3251=evaluate_arima(model, test_original_data, 3, 50, 2)\n",
    "p3251,a3251=evaluate_arima(model, test_original_data, 3, 50, 3)\n",
    "p3251,a3251=evaluate_arima(model, test_original_data, 3, 50, 4)\n",
    "p3251,a3251=evaluate_arima(model, test_original_data, 3, 50, 5)\n",
    "p3251,a3251=evaluate_arima(model, test_original_data, 3, 50, 6)"
   ]
  },
  {
   "cell_type": "markdown",
   "id": "55051b74",
   "metadata": {},
   "source": [
    "# Plot results"
   ]
  },
  {
   "cell_type": "code",
   "execution_count": 180,
   "id": "5bf40acc",
   "metadata": {},
   "outputs": [],
   "source": [
    "def plot5mnt(actual, arima_pred, STGCN_pred):\n",
    "    arima5mnt = [v[0] for v in arima_pred]\n",
    "    STGCN5mnt = [v[0] for v in STGCN_pred]\n",
    "    actual5mnt = [v[0] for v in actual]\n",
    "    plt.plot(actual5mnt,label=\"Actual\")\n",
    "    plt.plot(arima5mnt,label=\"Arima\")\n",
    "    plt.plot(STGCN5mnt,label=\"STGCN\")\n",
    "\n",
    "    plt.legend()\n",
    "    plt.xlabel(\"Timestep\")\n",
    "    plt.ylabel(\"Speedband\")\n",
    "    plt.title(\"5 minutes\")\n",
    "    plt.plot()\n",
    "\n",
    "def plot20mnt(actual, arima_pred, STGCN_pred):\n",
    "    arima5mnt = [v[3] for v in arima_pred]\n",
    "    STGCN5mnt = [v[3] for v in STGCN_pred]\n",
    "    actual5mnt = [v[3] for v in actual]\n",
    "    plt.plot(actual5mnt,label=\"Actual\")\n",
    "    plt.plot(arima5mnt,label=\"Arima\")\n",
    "    plt.plot(STGCN5mnt,label=\"STGCN\")\n",
    "\n",
    "    plt.legend()\n",
    "    plt.xlabel(\"Timestep\")\n",
    "    plt.ylabel(\"Speedband\")\n",
    "    plt.title(\"20 minutes\")\n",
    "    plt.plot()\n"
   ]
  },
  {
   "cell_type": "code",
   "execution_count": 181,
   "id": "0eb83ad9",
   "metadata": {},
   "outputs": [],
   "source": [
    "# screw up somewhere\n",
    "test_act = pred\n",
    "arima_pred = act"
   ]
  },
  {
   "cell_type": "code",
   "execution_count": 182,
   "id": "d8a8f4fe",
   "metadata": {},
   "outputs": [
    {
     "data": {
      "image/png": "[encoded data removed]",
      "text/plain": [
       "<Figure size 432x288 with 1 Axes>"
      ]
     },
     "metadata": {
      "needs_background": "light"
     },
     "output_type": "display_data"
    }
   ],
   "source": [
    "plot5mnt(actual_denorm[:,road,:],arima_pred,predicted_denorm[:,road,:])"
   ]
  },
  {
   "cell_type": "code",
   "execution_count": 183,
   "id": "cf13c99c",
   "metadata": {},
   "outputs": [
    {
     "data": {
      "image/png": "[encoded data removed]",
      "text/plain": [
       "<Figure size 432x288 with 1 Axes>"
      ]
     },
     "metadata": {
      "needs_background": "light"
     },
     "output_type": "display_data"
    }
   ],
   "source": [
    "plot20mnt(actual_denorm[:,road,:],arima_pred,predicted_denorm[:,road,:])"
   ]
  },
  {
   "cell_type": "code",
   "execution_count": null,
   "id": "ffc3ea29",
   "metadata": {},
   "outputs": [],
   "source": []
  }
 ],
 "metadata": {
  "kernelspec": {
   "display_name": "pytorch",
   "language": "python",
   "name": "pytorch"
  },
  "language_info": {
   "codemirror_mode": {
    "name": "ipython",
    "version": 3
   },
   "file_extension": ".py",
   "mimetype": "text/x-python",
   "name": "python",
   "nbconvert_exporter": "python",
   "pygments_lexer": "ipython3",
   "version": "3.8.0"
  }
 },
 "nbformat": 4,
 "nbformat_minor": 5
}
