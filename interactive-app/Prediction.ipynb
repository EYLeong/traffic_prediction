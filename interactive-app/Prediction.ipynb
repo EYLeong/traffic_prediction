{
 "cells": [
  {
   "cell_type": "markdown",
   "metadata": {},
   "source": [
    "# Prediction\n",
    "Sample file to test prediction results in the Web GUI"
   ]
  },
  {
   "cell_type": "code",
   "execution_count": 1,
   "metadata": {},
   "outputs": [],
   "source": [
    "%matplotlib inline \n",
    "\n",
    "import math\n",
    "import copy\n",
    "import numpy as np\n",
    "\n",
    "import torch\n",
    "import torch.nn as nn\n",
    "import torch.nn.functional as F\n",
    "import matplotlib.pyplot as plt\n",
    "from torch import optim, nn\n",
    "\n",
    "import model\n",
    "import model_utils\n",
    "import preprocessing_utils\n",
    "\n",
    "import pandas as pd\n",
    "# import geopandas as gpd\n",
    "# from shapely.geometry import LineString\n",
    "# import contextily as ctx\n",
    "import matplotlib.pyplot as plt\n",
    "\n",
    "from os.path import dirname, abspath\n",
    "import os\n",
    "import sys"
   ]
  },
  {
   "cell_type": "code",
   "execution_count": 2,
   "metadata": {},
   "outputs": [],
   "source": [
    "torch.manual_seed(1234)\n",
    "device = torch.device('cuda' if torch.cuda.is_available() else 'cpu') # Heroku only have cpu\n",
    "\n",
    "\n",
    "num_timesteps_input = 8\n",
    "num_timesteps_output = 4\n",
    "\n",
    "loss_criterion = nn.MSELoss()"
   ]
  },
  {
   "cell_type": "code",
   "execution_count": 3,
   "metadata": {},
   "outputs": [
    {
     "name": "stdout",
     "output_type": "stream",
     "text": [
      "Processing C:\\Users\\daryl\\Desktop\\SUTD school materials\\T7-TheoryAndPracticeOfDeepLearning\\Big Project\\traffic_prediction\\interactive-app\\data\\raw\\Thu_Apr_1_2021\\15_00_10.json\n",
      "Processing C:\\Users\\daryl\\Desktop\\SUTD school materials\\T7-TheoryAndPracticeOfDeepLearning\\Big Project\\traffic_prediction\\interactive-app\\data\\raw\\Thu_Apr_1_2021\\15_05_09.json\n",
      "Processing C:\\Users\\daryl\\Desktop\\SUTD school materials\\T7-TheoryAndPracticeOfDeepLearning\\Big Project\\traffic_prediction\\interactive-app\\data\\raw\\Thu_Apr_1_2021\\15_10_09.json\n",
      "Processing C:\\Users\\daryl\\Desktop\\SUTD school materials\\T7-TheoryAndPracticeOfDeepLearning\\Big Project\\traffic_prediction\\interactive-app\\data\\raw\\Thu_Apr_1_2021\\15_15_09.json\n",
      "Processing C:\\Users\\daryl\\Desktop\\SUTD school materials\\T7-TheoryAndPracticeOfDeepLearning\\Big Project\\traffic_prediction\\interactive-app\\data\\raw\\Thu_Apr_1_2021\\15_20_10.json\n",
      "Processing C:\\Users\\daryl\\Desktop\\SUTD school materials\\T7-TheoryAndPracticeOfDeepLearning\\Big Project\\traffic_prediction\\interactive-app\\data\\raw\\Thu_Apr_1_2021\\15_25_10.json\n",
      "Processing C:\\Users\\daryl\\Desktop\\SUTD school materials\\T7-TheoryAndPracticeOfDeepLearning\\Big Project\\traffic_prediction\\interactive-app\\data\\raw\\Thu_Apr_1_2021\\15_30_11.json\n",
      "Processing C:\\Users\\daryl\\Desktop\\SUTD school materials\\T7-TheoryAndPracticeOfDeepLearning\\Big Project\\traffic_prediction\\interactive-app\\data\\raw\\Thu_Apr_1_2021\\15_35_08.json\n",
      "Done\n"
     ]
    }
   ],
   "source": [
    "raw_dir = os.path.join(os.getcwd(), 'data', 'raw')\n",
    "process_dir = os.path.join(os.getcwd(), 'data', 'processed')\n",
    "\n",
    "# overwrite = False means that the processing function will only run if the process data files do not exist\n",
    "# overwrite = True => functions will run regardless\n",
    "preprocessing_utils.processed(raw_dir, process_dir, overwrite=True)\n",
    "A, X, metadata, cat2index, timesteps, means, stds = preprocessing_utils.load(process_dir)\n",
    "\n",
    "\n",
    "test_original_data = X\n",
    "\n",
    "\n",
    "test_input, test_target = preprocessing_utils.generate_dataset(test_original_data,\n",
    "                                           num_timesteps_input=num_timesteps_input,\n",
    "                                           num_timesteps_output=num_timesteps_output)\n",
    "\n",
    "# input shape (num_samples ,num_vertices, num_timesteps_window, num_features)\n",
    "# output shape (num_samples ,num_vertices, num_timesteps_window)\n",
    "adj_mat = preprocessing_utils.get_normalized_adj(A)\n",
    "adj_mat = torch.from_numpy(adj_mat).to(device).float()"
   ]
  },
  {
   "cell_type": "code",
   "execution_count": 4,
   "metadata": {},
   "outputs": [
    {
     "data": {
      "text/plain": [
       "(53, 3, 8)"
      ]
     },
     "execution_count": 4,
     "metadata": {},
     "output_type": "execute_result"
    }
   ],
   "source": [
    "X.shape"
   ]
  },
  {
   "cell_type": "code",
   "execution_count": 5,
   "metadata": {},
   "outputs": [],
   "source": [
    "i = 0\n",
    "indices = [(i, i + (num_timesteps_input + num_timesteps_output))]\n",
    "\n",
    "# Save samples\n",
    "features, target = [], []\n",
    "for i, j in indices:\n",
    "    features.append(\n",
    "        X[:, :, i: i + num_timesteps_input].transpose(\n",
    "            (0, 2, 1)))\n",
    "    target.append(X[:, 0, i + num_timesteps_input: j])"
   ]
  },
  {
   "cell_type": "code",
   "execution_count": 6,
   "metadata": {},
   "outputs": [],
   "source": [
    "test_input = torch.from_numpy(np.array(features)).to(device)"
   ]
  },
  {
   "cell_type": "code",
   "execution_count": 7,
   "metadata": {},
   "outputs": [],
   "source": [
    "test_target = torch.from_numpy(np.array(target)).to(device)"
   ]
  },
  {
   "cell_type": "code",
   "execution_count": 8,
   "metadata": {},
   "outputs": [],
   "source": [
    "# Load model\n",
    "# saved_models_path = os.path.join(dirname(os.getcwd()), 'saved_models', 'last_saved_model.txt')\n",
    "# with open(saved_models_path) as f:\n",
    "#     saved_model = f.read()\n",
    "\n",
    "latest_model_path = os.path.join(dirname(os.getcwd()),'saved_models', 'Final_STGCN_Weights')\n",
    "checkpoint = torch.load(latest_model_path, map_location=None)\n",
    "model_stgcn = model.Stgcn_Model(checkpoint['model_nodes_num'], checkpoint['model_features_num'], checkpoint['model_input_timesteps'], checkpoint['model_num_output'])\n",
    "model_stgcn.load_state_dict(checkpoint['state_dict'])\n",
    "optimizer = optim.Adam(model_stgcn.parameters(), lr=checkpoint['model_lr'])\n",
    "optimizer = optimizer.load_state_dict(checkpoint['opti_state_dict'])"
   ]
  },
  {
   "cell_type": "code",
   "execution_count": 9,
   "metadata": {},
   "outputs": [],
   "source": [
    "loaded_model = model_stgcn\n",
    "loaded_model.to(device)\n",
    "loaded_optimizer = optimizer"
   ]
  },
  {
   "cell_type": "code",
   "execution_count": 10,
   "metadata": {},
   "outputs": [
    {
     "data": {
      "text/plain": [
       "torch.Size([1, 53, 8, 3])"
      ]
     },
     "execution_count": 10,
     "metadata": {},
     "output_type": "execute_result"
    }
   ],
   "source": [
    "test_input.shape"
   ]
  },
  {
   "cell_type": "code",
   "execution_count": 11,
   "metadata": {},
   "outputs": [
    {
     "data": {
      "text/plain": [
       "torch.Size([1, 53, 0])"
      ]
     },
     "execution_count": 11,
     "metadata": {},
     "output_type": "execute_result"
    }
   ],
   "source": [
    "test_target.shape"
   ]
  },
  {
   "cell_type": "code",
   "execution_count": 12,
   "metadata": {},
   "outputs": [
    {
     "data": {
      "text/plain": [
       "torch.Size([53, 53])"
      ]
     },
     "execution_count": 12,
     "metadata": {},
     "output_type": "execute_result"
    }
   ],
   "source": [
    "adj_mat.shape"
   ]
  },
  {
   "cell_type": "code",
   "execution_count": 13,
   "metadata": {},
   "outputs": [],
   "source": [
    "torch.manual_seed(1234)\n",
    "\n",
    "\n",
    "predicted = model_utils.predict(loaded_model, test_input, adj_mat)\n",
    "predicted = predicted.cpu().numpy()\n",
    "predicted_denorm = preprocessing_utils.denormalize(predicted, stds[0], means[0])"
   ]
  },
  {
   "cell_type": "code",
   "execution_count": 14,
   "metadata": {},
   "outputs": [
    {
     "data": {
      "text/plain": [
       "array([[[-1.415075  , -1.3122897 , -1.1868554 , -1.1799077 ],\n",
       "        [-0.2656938 , -0.18420967, -0.15164311, -0.06208366],\n",
       "        [ 0.3780233 ,  0.35590044,  0.29939532,  0.31147975],\n",
       "        [ 0.36727753,  0.31608406,  0.27773803,  0.26341072],\n",
       "        [ 0.5446751 ,  0.64699197,  0.646888  ,  0.7025989 ],\n",
       "        [-0.34256107, -0.5160178 , -0.56228155, -0.57956517],\n",
       "        [ 0.17994773,  0.29843828,  0.33949316,  0.40767056],\n",
       "        [-0.6674091 , -0.6707887 , -0.6736678 , -0.6706457 ],\n",
       "        [ 0.68033016,  0.7212311 ,  0.6754341 ,  0.6736188 ],\n",
       "        [-0.4586085 , -0.42033264, -0.39433867, -0.39416832],\n",
       "        [-0.1883955 , -0.10641562, -0.07281922,  0.00360686],\n",
       "        [-0.81124556, -0.95524955, -1.0005645 , -0.98803055],\n",
       "        [ 0.0613069 ,  0.21877429,  0.21968885,  0.1617497 ],\n",
       "        [ 1.3295244 ,  1.0615219 ,  0.8397263 ,  0.71383214],\n",
       "        [ 0.03048879, -0.13767847, -0.23911159, -0.43037933],\n",
       "        [ 1.1044369 ,  0.79225373,  0.55076295,  0.33646786],\n",
       "        [-0.28812096, -0.2672221 , -0.31998593, -0.3757072 ],\n",
       "        [-2.123744  , -2.0068512 , -1.8379326 , -1.7724514 ],\n",
       "        [-0.3133129 , -0.18681616, -0.14446713, -0.13234285],\n",
       "        [-0.02302132,  0.21890837,  0.33241683,  0.35159707],\n",
       "        [-0.46820498, -0.46681663, -0.45216405, -0.45336694],\n",
       "        [ 0.29791883,  0.20415846,  0.13712509,  0.05609291],\n",
       "        [-0.2508114 , -0.3021276 , -0.35159582, -0.40349668],\n",
       "        [-0.06000688, -0.18442956, -0.25253624, -0.3129624 ],\n",
       "        [ 0.4441004 ,  0.46407953,  0.43541616,  0.43141872],\n",
       "        [-0.21469657, -0.12141787, -0.04475297,  0.01516025],\n",
       "        [ 0.6301335 ,  0.5580708 ,  0.49127793,  0.46390933],\n",
       "        [ 0.10606612,  0.03601201, -0.01291017, -0.05904724],\n",
       "        [ 0.06198954,  0.00942243, -0.03708842, -0.04638457],\n",
       "        [ 0.00530599, -0.01295721, -0.03005674, -0.04442081],\n",
       "        [ 0.4032038 ,  0.42416683,  0.38759285,  0.38304424],\n",
       "        [ 0.59250766,  0.6930249 ,  0.6657152 ,  0.63035697],\n",
       "        [ 0.89186555,  0.8960257 ,  0.8228153 ,  0.7183682 ],\n",
       "        [-0.28211445, -0.27774352, -0.24217845, -0.23220326],\n",
       "        [-0.23886831, -0.1612859 , -0.10201772, -0.03718519],\n",
       "        [-0.5805398 , -0.5573492 , -0.58304286, -0.601913  ],\n",
       "        [-0.47179055, -0.43481973, -0.41725582, -0.41441828],\n",
       "        [ 0.5507257 ,  0.57634836,  0.54605234,  0.50028515],\n",
       "        [-0.6858549 , -0.56023026, -0.47480035, -0.38961208],\n",
       "        [ 0.20131166,  0.3155692 ,  0.32414412,  0.4028253 ],\n",
       "        [-0.3603997 , -0.20654815, -0.19042464, -0.2573133 ],\n",
       "        [-1.3990906 , -1.1813104 , -0.92953575, -0.8001047 ],\n",
       "        [-0.39529884, -0.24456248, -0.18377544, -0.13365744],\n",
       "        [-0.332174  , -0.28981602, -0.30652982, -0.33208436],\n",
       "        [-0.56860995, -0.44095513, -0.35608822, -0.29195172],\n",
       "        [-0.15886258, -0.02664764,  0.02834621,  0.10465494],\n",
       "        [-1.8033024 , -1.5186746 , -1.2691288 , -1.1665944 ],\n",
       "        [-0.10137995, -0.27071518, -0.23874138, -0.33767194],\n",
       "        [-0.4400913 , -0.08684417, -0.01876269, -0.03552808],\n",
       "        [ 0.2737993 ,  0.13391718,  0.00991091, -0.22755493],\n",
       "        [ 0.741737  ,  0.85446715,  0.70073974,  0.6181319 ],\n",
       "        [-1.6006006 , -1.5700381 , -1.3775697 , -1.3295251 ],\n",
       "        [ 0.9605327 ,  1.0393465 ,  0.8716254 ,  0.72007686]]],\n",
       "      dtype=float32)"
      ]
     },
     "execution_count": 14,
     "metadata": {},
     "output_type": "execute_result"
    }
   ],
   "source": [
    "predicted"
   ]
  },
  {
   "cell_type": "code",
   "execution_count": 15,
   "metadata": {},
   "outputs": [
    {
     "data": {
      "text/plain": [
       "array([[[2.4759839, 2.5496788, 2.639613 , 2.6445944],\n",
       "        [3.3000686, 3.3584912, 3.3818407, 3.4460533],\n",
       "        [3.7616017, 3.74574  , 3.705227 , 3.713891 ],\n",
       "        [3.7538972, 3.7171924, 3.689699 , 3.6794267],\n",
       "        [3.8810878, 3.954447 , 3.9543726, 3.9943163],\n",
       "        [3.2449563, 3.120591 , 3.0874207, 3.0750287],\n",
       "        [3.619585 , 3.7045407, 3.7339761, 3.7828581],\n",
       "        [3.012046 , 3.009623 , 3.0075588, 3.0097256],\n",
       "        [3.97835  , 4.007675 , 3.9748397, 3.973538 ],\n",
       "        [3.1617522, 3.1891954, 3.2078326, 3.2079546],\n",
       "        [3.35549  , 3.414268 , 3.438356 , 3.4931521],\n",
       "        [2.9089181, 2.80567  , 2.77318  , 2.7821667],\n",
       "        [3.5345218, 3.647423 , 3.648079 , 3.6065376],\n",
       "        [4.44381  , 4.2516575, 4.092634 , 4.0023704],\n",
       "        [3.512426 , 3.391853 , 3.3191276, 3.181992 ],\n",
       "        [4.2824264, 4.058597 , 3.8854527, 3.7318072],\n",
       "        [3.2839887, 3.2989728, 3.261142 , 3.221191 ],\n",
       "        [1.9678814, 2.0516915, 2.172803 , 2.2197516],\n",
       "        [3.2659266, 3.3566222, 3.3869858, 3.3956788],\n",
       "        [3.47406  , 3.647519 , 3.7289026, 3.7426546],\n",
       "        [3.154872 , 3.1558673, 3.1663728, 3.1655104],\n",
       "        [3.7041683, 3.6369438, 3.5888822, 3.5307837],\n",
       "        [3.310739 , 3.2739463, 3.2384784, 3.2012665],\n",
       "        [3.4475422, 3.3583336, 3.3095024, 3.266178 ],\n",
       "        [3.8089776, 3.8233023, 3.8027513, 3.799885 ],\n",
       "        [3.3366327, 3.4035118, 3.458479 , 3.5014355],\n",
       "        [3.94236  , 3.8906922, 3.842803 , 3.8231802],\n",
       "        [3.5666134, 3.516386 , 3.4813097, 3.4482303],\n",
       "        [3.5350113, 3.4973216, 3.4639742, 3.4573092],\n",
       "        [3.4943702, 3.481276 , 3.4690158, 3.458717 ],\n",
       "        [3.7796555, 3.7946856, 3.768463 , 3.7652016],\n",
       "        [3.9153829, 3.9874518, 3.9678714, 3.9425201],\n",
       "        [4.130017 , 4.1329994, 4.080509 , 4.0056224],\n",
       "        [3.2882953, 3.291429 , 3.3169286, 3.3240807],\n",
       "        [3.3193018, 3.374927 , 3.4174213, 3.4639049],\n",
       "        [3.0743299, 3.0909572, 3.0725353, 3.0590057],\n",
       "        [3.152301 , 3.1788085, 3.1914015, 3.193436 ],\n",
       "        [3.885426 , 3.903797 , 3.8820753, 3.849261 ],\n",
       "        [2.9988208, 3.0888915, 3.1501431, 3.2112215],\n",
       "        [3.6349027, 3.716823 , 3.7229712, 3.7793841],\n",
       "        [3.2321663, 3.342475 , 3.3540351, 3.3060772],\n",
       "        [2.4874444, 2.6435885, 2.8241062, 2.9169059],\n",
       "        [3.2071443, 3.3152194, 3.3588026, 3.394736 ],\n",
       "        [3.2524035, 3.2827733, 3.2707899, 3.2524679],\n",
       "        [3.0828834, 3.1744094, 3.2352574, 3.2812421],\n",
       "        [3.3766646, 3.47146  , 3.5108898, 3.5656016],\n",
       "        [2.197632 , 2.4017048, 2.5806246, 2.6541398],\n",
       "        [3.4178784, 3.2964683, 3.319393 , 3.2484615],\n",
       "        [3.1750288, 3.4283004, 3.4771135, 3.4650931],\n",
       "        [3.6868749, 3.5865822, 3.4976718, 3.3274133],\n",
       "        [4.0223775, 4.103203 , 3.9929833, 3.933755 ],\n",
       "        [2.3429656, 2.3648782, 2.5028744, 2.5373216],\n",
       "        [4.17925  , 4.235758 , 4.115505 , 4.0068474]]], dtype=float32)"
      ]
     },
     "execution_count": 15,
     "metadata": {},
     "output_type": "execute_result"
    }
   ],
   "source": [
    "predicted_denorm"
   ]
  },
  {
   "cell_type": "code",
   "execution_count": 16,
   "metadata": {},
   "outputs": [
    {
     "data": {
      "text/plain": [
       "array([[[2.4759839, 2.5496788, 2.639613 , 2.6445944],\n",
       "        [3.3000686, 3.3584912, 3.3818407, 3.4460533],\n",
       "        [3.7616017, 3.74574  , 3.705227 , 3.713891 ],\n",
       "        [3.7538972, 3.7171924, 3.689699 , 3.6794267],\n",
       "        [3.8810878, 3.954447 , 3.9543726, 3.9943163],\n",
       "        [3.2449563, 3.120591 , 3.0874207, 3.0750287],\n",
       "        [3.619585 , 3.7045407, 3.7339761, 3.7828581],\n",
       "        [3.012046 , 3.009623 , 3.0075588, 3.0097256],\n",
       "        [3.97835  , 4.007675 , 3.9748397, 3.973538 ],\n",
       "        [3.1617522, 3.1891954, 3.2078326, 3.2079546],\n",
       "        [3.35549  , 3.414268 , 3.438356 , 3.4931521],\n",
       "        [2.9089181, 2.80567  , 2.77318  , 2.7821667],\n",
       "        [3.5345218, 3.647423 , 3.648079 , 3.6065376],\n",
       "        [4.44381  , 4.2516575, 4.092634 , 4.0023704],\n",
       "        [3.512426 , 3.391853 , 3.3191276, 3.181992 ],\n",
       "        [4.2824264, 4.058597 , 3.8854527, 3.7318072],\n",
       "        [3.2839887, 3.2989728, 3.261142 , 3.221191 ],\n",
       "        [1.9678814, 2.0516915, 2.172803 , 2.2197516],\n",
       "        [3.2659266, 3.3566222, 3.3869858, 3.3956788],\n",
       "        [3.47406  , 3.647519 , 3.7289026, 3.7426546],\n",
       "        [3.154872 , 3.1558673, 3.1663728, 3.1655104],\n",
       "        [3.7041683, 3.6369438, 3.5888822, 3.5307837],\n",
       "        [3.310739 , 3.2739463, 3.2384784, 3.2012665],\n",
       "        [3.4475422, 3.3583336, 3.3095024, 3.266178 ],\n",
       "        [3.8089776, 3.8233023, 3.8027513, 3.799885 ],\n",
       "        [3.3366327, 3.4035118, 3.458479 , 3.5014355],\n",
       "        [3.94236  , 3.8906922, 3.842803 , 3.8231802],\n",
       "        [3.5666134, 3.516386 , 3.4813097, 3.4482303],\n",
       "        [3.5350113, 3.4973216, 3.4639742, 3.4573092],\n",
       "        [3.4943702, 3.481276 , 3.4690158, 3.458717 ],\n",
       "        [3.7796555, 3.7946856, 3.768463 , 3.7652016],\n",
       "        [3.9153829, 3.9874518, 3.9678714, 3.9425201],\n",
       "        [4.130017 , 4.1329994, 4.080509 , 4.0056224],\n",
       "        [3.2882953, 3.291429 , 3.3169286, 3.3240807],\n",
       "        [3.3193018, 3.374927 , 3.4174213, 3.4639049],\n",
       "        [3.0743299, 3.0909572, 3.0725353, 3.0590057],\n",
       "        [3.152301 , 3.1788085, 3.1914015, 3.193436 ],\n",
       "        [3.885426 , 3.903797 , 3.8820753, 3.849261 ],\n",
       "        [2.9988208, 3.0888915, 3.1501431, 3.2112215],\n",
       "        [3.6349027, 3.716823 , 3.7229712, 3.7793841],\n",
       "        [3.2321663, 3.342475 , 3.3540351, 3.3060772],\n",
       "        [2.4874444, 2.6435885, 2.8241062, 2.9169059],\n",
       "        [3.2071443, 3.3152194, 3.3588026, 3.394736 ],\n",
       "        [3.2524035, 3.2827733, 3.2707899, 3.2524679],\n",
       "        [3.0828834, 3.1744094, 3.2352574, 3.2812421],\n",
       "        [3.3766646, 3.47146  , 3.5108898, 3.5656016],\n",
       "        [2.197632 , 2.4017048, 2.5806246, 2.6541398],\n",
       "        [3.4178784, 3.2964683, 3.319393 , 3.2484615],\n",
       "        [3.1750288, 3.4283004, 3.4771135, 3.4650931],\n",
       "        [3.6868749, 3.5865822, 3.4976718, 3.3274133],\n",
       "        [4.0223775, 4.103203 , 3.9929833, 3.933755 ],\n",
       "        [2.3429656, 2.3648782, 2.5028744, 2.5373216],\n",
       "        [4.17925  , 4.235758 , 4.115505 , 4.0068474]]], dtype=float32)"
      ]
     },
     "execution_count": 16,
     "metadata": {},
     "output_type": "execute_result"
    }
   ],
   "source": [
    "predicted_denorm"
   ]
  },
  {
   "cell_type": "code",
   "execution_count": 17,
   "metadata": {},
   "outputs": [
    {
     "data": {
      "text/plain": [
       "array([[[2.4759839, 2.5496788],\n",
       "        [3.3000686, 3.3584912],\n",
       "        [3.7616017, 3.74574  ],\n",
       "        [3.7538972, 3.7171924],\n",
       "        [3.8810878, 3.954447 ],\n",
       "        [3.2449563, 3.120591 ],\n",
       "        [3.619585 , 3.7045407],\n",
       "        [3.012046 , 3.009623 ],\n",
       "        [3.97835  , 4.007675 ],\n",
       "        [3.1617522, 3.1891954],\n",
       "        [3.35549  , 3.414268 ],\n",
       "        [2.9089181, 2.80567  ],\n",
       "        [3.5345218, 3.647423 ],\n",
       "        [4.44381  , 4.2516575],\n",
       "        [3.512426 , 3.391853 ],\n",
       "        [4.2824264, 4.058597 ],\n",
       "        [3.2839887, 3.2989728],\n",
       "        [1.9678814, 2.0516915],\n",
       "        [3.2659266, 3.3566222],\n",
       "        [3.47406  , 3.647519 ],\n",
       "        [3.154872 , 3.1558673],\n",
       "        [3.7041683, 3.6369438],\n",
       "        [3.310739 , 3.2739463],\n",
       "        [3.4475422, 3.3583336],\n",
       "        [3.8089776, 3.8233023],\n",
       "        [3.3366327, 3.4035118],\n",
       "        [3.94236  , 3.8906922],\n",
       "        [3.5666134, 3.516386 ],\n",
       "        [3.5350113, 3.4973216],\n",
       "        [3.4943702, 3.481276 ],\n",
       "        [3.7796555, 3.7946856],\n",
       "        [3.9153829, 3.9874518],\n",
       "        [4.130017 , 4.1329994],\n",
       "        [3.2882953, 3.291429 ],\n",
       "        [3.3193018, 3.374927 ],\n",
       "        [3.0743299, 3.0909572],\n",
       "        [3.152301 , 3.1788085],\n",
       "        [3.885426 , 3.903797 ],\n",
       "        [2.9988208, 3.0888915],\n",
       "        [3.6349027, 3.716823 ],\n",
       "        [3.2321663, 3.342475 ],\n",
       "        [2.4874444, 2.6435885],\n",
       "        [3.2071443, 3.3152194],\n",
       "        [3.2524035, 3.2827733],\n",
       "        [3.0828834, 3.1744094],\n",
       "        [3.3766646, 3.47146  ],\n",
       "        [2.197632 , 2.4017048],\n",
       "        [3.4178784, 3.2964683],\n",
       "        [3.1750288, 3.4283004],\n",
       "        [3.6868749, 3.5865822],\n",
       "        [4.0223775, 4.103203 ],\n",
       "        [2.3429656, 2.3648782],\n",
       "        [4.17925  , 4.235758 ]]], dtype=float32)"
      ]
     },
     "execution_count": 17,
     "metadata": {},
     "output_type": "execute_result"
    }
   ],
   "source": [
    "predicted_denorm[:,:, :2]"
   ]
  },
  {
   "cell_type": "code",
   "execution_count": 18,
   "metadata": {},
   "outputs": [
    {
     "data": {
      "text/plain": [
       "(1, 53, 4)"
      ]
     },
     "execution_count": 18,
     "metadata": {},
     "output_type": "execute_result"
    }
   ],
   "source": [
    "predicted_denorm.shape"
   ]
  },
  {
   "cell_type": "code",
   "execution_count": 19,
   "metadata": {},
   "outputs": [],
   "source": [
    "timestep_speedbands = predicted_denorm.reshape(predicted_denorm.shape[2], predicted_denorm.shape[1])"
   ]
  },
  {
   "cell_type": "code",
   "execution_count": 20,
   "metadata": {},
   "outputs": [
    {
     "data": {
      "text/plain": [
       "array([[2.4759839, 2.5496788, 2.639613 , 2.6445944, 3.3000686, 3.3584912,\n",
       "        3.3818407, 3.4460533, 3.7616017, 3.74574  , 3.705227 , 3.713891 ,\n",
       "        3.7538972, 3.7171924, 3.689699 , 3.6794267, 3.8810878, 3.954447 ,\n",
       "        3.9543726, 3.9943163, 3.2449563, 3.120591 , 3.0874207, 3.0750287,\n",
       "        3.619585 , 3.7045407, 3.7339761, 3.7828581, 3.012046 , 3.009623 ,\n",
       "        3.0075588, 3.0097256, 3.97835  , 4.007675 , 3.9748397, 3.973538 ,\n",
       "        3.1617522, 3.1891954, 3.2078326, 3.2079546, 3.35549  , 3.414268 ,\n",
       "        3.438356 , 3.4931521, 2.9089181, 2.80567  , 2.77318  , 2.7821667,\n",
       "        3.5345218, 3.647423 , 3.648079 , 3.6065376, 4.44381  ],\n",
       "       [4.2516575, 4.092634 , 4.0023704, 3.512426 , 3.391853 , 3.3191276,\n",
       "        3.181992 , 4.2824264, 4.058597 , 3.8854527, 3.7318072, 3.2839887,\n",
       "        3.2989728, 3.261142 , 3.221191 , 1.9678814, 2.0516915, 2.172803 ,\n",
       "        2.2197516, 3.2659266, 3.3566222, 3.3869858, 3.3956788, 3.47406  ,\n",
       "        3.647519 , 3.7289026, 3.7426546, 3.154872 , 3.1558673, 3.1663728,\n",
       "        3.1655104, 3.7041683, 3.6369438, 3.5888822, 3.5307837, 3.310739 ,\n",
       "        3.2739463, 3.2384784, 3.2012665, 3.4475422, 3.3583336, 3.3095024,\n",
       "        3.266178 , 3.8089776, 3.8233023, 3.8027513, 3.799885 , 3.3366327,\n",
       "        3.4035118, 3.458479 , 3.5014355, 3.94236  , 3.8906922],\n",
       "       [3.842803 , 3.8231802, 3.5666134, 3.516386 , 3.4813097, 3.4482303,\n",
       "        3.5350113, 3.4973216, 3.4639742, 3.4573092, 3.4943702, 3.481276 ,\n",
       "        3.4690158, 3.458717 , 3.7796555, 3.7946856, 3.768463 , 3.7652016,\n",
       "        3.9153829, 3.9874518, 3.9678714, 3.9425201, 4.130017 , 4.1329994,\n",
       "        4.080509 , 4.0056224, 3.2882953, 3.291429 , 3.3169286, 3.3240807,\n",
       "        3.3193018, 3.374927 , 3.4174213, 3.4639049, 3.0743299, 3.0909572,\n",
       "        3.0725353, 3.0590057, 3.152301 , 3.1788085, 3.1914015, 3.193436 ,\n",
       "        3.885426 , 3.903797 , 3.8820753, 3.849261 , 2.9988208, 3.0888915,\n",
       "        3.1501431, 3.2112215, 3.6349027, 3.716823 , 3.7229712],\n",
       "       [3.7793841, 3.2321663, 3.342475 , 3.3540351, 3.3060772, 2.4874444,\n",
       "        2.6435885, 2.8241062, 2.9169059, 3.2071443, 3.3152194, 3.3588026,\n",
       "        3.394736 , 3.2524035, 3.2827733, 3.2707899, 3.2524679, 3.0828834,\n",
       "        3.1744094, 3.2352574, 3.2812421, 3.3766646, 3.47146  , 3.5108898,\n",
       "        3.5656016, 2.197632 , 2.4017048, 2.5806246, 2.6541398, 3.4178784,\n",
       "        3.2964683, 3.319393 , 3.2484615, 3.1750288, 3.4283004, 3.4771135,\n",
       "        3.4650931, 3.6868749, 3.5865822, 3.4976718, 3.3274133, 4.0223775,\n",
       "        4.103203 , 3.9929833, 3.933755 , 2.3429656, 2.3648782, 2.5028744,\n",
       "        2.5373216, 4.17925  , 4.235758 , 4.115505 , 4.0068474]],\n",
       "      dtype=float32)"
      ]
     },
     "execution_count": 20,
     "metadata": {},
     "output_type": "execute_result"
    }
   ],
   "source": [
    "timestep_speedbands"
   ]
  },
  {
   "cell_type": "code",
   "execution_count": 21,
   "metadata": {},
   "outputs": [],
   "source": [
    "def loc_to_linestring(loc):\n",
    "    coordArr = loc.split()\n",
    "    coordArr = [float(coord) for coord in coordArr]\n",
    "    return LineString([coordArr[1::-1], coordArr[3:1:-1]])\n",
    "\n",
    "def plotGeoPerformance(metadata, speedbands):\n",
    "    df = pd.DataFrame(metadata).transpose()\n",
    "    df[\"speedbands\"] = speedbands\n",
    "    loc = df[\"start_pos\"] + \" \" + df[\"end_pos\"]\n",
    "    linestrings = loc.apply(loc_to_linestring)\n",
    "    gdf = gpd.GeoDataFrame(df, geometry=linestrings, crs=\"EPSG:4326\")\n",
    "    gdf = gdf.to_crs('EPSG:3857')\n",
    "    fig, ax = plt.subplots(figsize=(10, 10))\n",
    "    gdf.plot(ax=ax, column=\"speedbands\", legend=True, cmap=\"OrRd\", legend_kwds={'label': 'speedbands'})\n",
    "    ax.set_xlabel(\"Longitude\")\n",
    "    ax.set_ylabel(\"Latitude\")\n",
    "    ctx.add_basemap(ax)"
   ]
  },
  {
   "cell_type": "code",
   "execution_count": null,
   "metadata": {},
   "outputs": [],
   "source": [
    "plotGeoPerformance(metadata, timestep_speedbands[0])"
   ]
  }
 ],
 "metadata": {
  "kernelspec": {
   "display_name": "Python 3",
   "language": "python",
   "name": "python3"
  },
  "language_info": {
   "codemirror_mode": {
    "name": "ipython",
    "version": 3
   },
   "file_extension": ".py",
   "mimetype": "text/x-python",
   "name": "python",
   "nbconvert_exporter": "python",
   "pygments_lexer": "ipython3",
   "version": "3.8.5"
  }
 },
 "nbformat": 4,
 "nbformat_minor": 4
}