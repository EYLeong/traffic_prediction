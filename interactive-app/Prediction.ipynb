{
 "cells": [
  {
   "cell_type": "code",
   "execution_count": 1,
   "metadata": {},
   "outputs": [],
   "source": [
    "%matplotlib inline \n",
    "\n",
    "import math\n",
    "import copy\n",
    "import numpy as np\n",
    "\n",
    "import torch\n",
    "import torch.nn as nn\n",
    "import torch.nn.functional as F\n",
    "import matplotlib.pyplot as plt\n",
    "from torch import optim, nn\n",
    "\n",
    "import model\n",
    "import model_utils\n",
    "import preprocessing_utils\n",
    "\n",
    "import pandas as pd\n",
    "import geopandas as gpd\n",
    "from shapely.geometry import LineString\n",
    "import contextily as ctx\n",
    "import matplotlib.pyplot as plt\n",
    "\n",
    "from os.path import dirname, abspath\n",
    "import os\n",
    "import sys"
   ]
  },
  {
   "cell_type": "code",
   "execution_count": 2,
   "metadata": {},
   "outputs": [
    {
     "data": {
      "text/plain": [
       "<torch._C.Generator at 0x2125ff2bb50>"
      ]
     },
     "execution_count": 2,
     "metadata": {},
     "output_type": "execute_result"
    }
   ],
   "source": [
    "torch.manual_seed(1234)"
   ]
  },
  {
   "cell_type": "code",
   "execution_count": 3,
   "metadata": {},
   "outputs": [],
   "source": [
    "device = torch.device('cuda' if torch.cuda.is_available() else 'cpu') # Heroku only have cpu\n",
    "\n",
    "\n",
    "num_timesteps_input = 7 # Default is 30 minutes\n",
    "num_timesteps_output = 2 # Default is 10 minutes\n",
    "\n",
    "loss_criterion = nn.MSELoss()"
   ]
  },
  {
   "cell_type": "code",
   "execution_count": 4,
   "metadata": {},
   "outputs": [],
   "source": [
    "raw_dir = os.path.join(os.getcwd(), 'data', 'raw')\n",
    "process_dir = os.path.join(os.getcwd(), 'data', 'processed')\n",
    "\n",
    "# overwrite = False means that the processing function will only run if the process data files do not exist\n",
    "# overwrite = True => functions will run regardless\n",
    "preprocessing_utils.processed(raw_dir, process_dir, overwrite=False)\n",
    "A, X, metadata, cat2index, timesteps, means, stds = preprocessing_utils.load(process_dir)\n",
    "\n",
    "\n",
    "test_original_data = X\n",
    "\n",
    "\n",
    "test_input, test_target = preprocessing_utils.generate_dataset(test_original_data,\n",
    "                                           num_timesteps_input=num_timesteps_input,\n",
    "                                           num_timesteps_output=num_timesteps_output)\n",
    "\n",
    "# input shape (num_samples ,num_vertices, num_timesteps_window, num_features)\n",
    "# output shape (num_samples ,num_vertices, num_timesteps_window)\n",
    "adj_mat = preprocessing_utils.get_normalized_adj(A)\n",
    "adj_mat = torch.from_numpy(adj_mat).to(device)"
   ]
  },
  {
   "cell_type": "code",
   "execution_count": 5,
   "metadata": {},
   "outputs": [
    {
     "data": {
      "text/plain": [
       "(53, 3, 7)"
      ]
     },
     "execution_count": 5,
     "metadata": {},
     "output_type": "execute_result"
    }
   ],
   "source": [
    "X.shape"
   ]
  },
  {
   "cell_type": "code",
   "execution_count": 6,
   "metadata": {},
   "outputs": [],
   "source": [
    "i = 0\n",
    "indices = [(i, i + (num_timesteps_input + num_timesteps_output))]\n",
    "\n",
    "# Save samples\n",
    "features, target = [], []\n",
    "for i, j in indices:\n",
    "    features.append(\n",
    "        X[:, :, i: i + num_timesteps_input].transpose(\n",
    "            (0, 2, 1)))\n",
    "    target.append(X[:, 0, i + num_timesteps_input: j])"
   ]
  },
  {
   "cell_type": "code",
   "execution_count": 7,
   "metadata": {},
   "outputs": [],
   "source": [
    "test_input = torch.from_numpy(np.array(features)).to(device)"
   ]
  },
  {
   "cell_type": "code",
   "execution_count": 8,
   "metadata": {},
   "outputs": [],
   "source": [
    "test_target = torch.from_numpy(np.array(target)).to(device)"
   ]
  },
  {
   "cell_type": "code",
   "execution_count": 9,
   "metadata": {},
   "outputs": [],
   "source": [
    "# Load model\n",
    "saved_models_path = os.path.join(dirname(os.getcwd()), 'saved_models', 'last_saved_model.txt')\n",
    "with open(saved_models_path) as f:\n",
    "    saved_model = f.read()\n",
    "\n",
    "latest_model_path = os.path.join(dirname(os.getcwd()), saved_model)\n",
    "checkpoint = torch.load(latest_model_path, map_location=None)\n",
    "model_stgcn = model.Stgcn_Model(checkpoint['model_nodes_num'], checkpoint['model_features_num'], checkpoint['model_input_timesteps'], checkpoint['model_num_output'])\n",
    "model_stgcn.load_state_dict(checkpoint['state_dict'])\n",
    "optimizer = optim.Adam(model_stgcn.parameters(), lr=checkpoint['model_lr'])\n",
    "optimizer = optimizer.load_state_dict(checkpoint['opti_state_dict'])"
   ]
  },
  {
   "cell_type": "code",
   "execution_count": 10,
   "metadata": {},
   "outputs": [],
   "source": [
    "loaded_model = model_stgcn\n",
    "loaded_model.to(device)\n",
    "loaded_optimizer = optimizer"
   ]
  },
  {
   "cell_type": "code",
   "execution_count": 11,
   "metadata": {},
   "outputs": [
    {
     "data": {
      "text/plain": [
       "torch.Size([1, 53, 7, 3])"
      ]
     },
     "execution_count": 11,
     "metadata": {},
     "output_type": "execute_result"
    }
   ],
   "source": [
    "test_input.shape"
   ]
  },
  {
   "cell_type": "code",
   "execution_count": 12,
   "metadata": {},
   "outputs": [
    {
     "data": {
      "text/plain": [
       "torch.Size([1, 53, 0])"
      ]
     },
     "execution_count": 12,
     "metadata": {},
     "output_type": "execute_result"
    }
   ],
   "source": [
    "test_target.shape"
   ]
  },
  {
   "cell_type": "code",
   "execution_count": 13,
   "metadata": {},
   "outputs": [
    {
     "data": {
      "text/plain": [
       "True"
      ]
     },
     "execution_count": 13,
     "metadata": {},
     "output_type": "execute_result"
    }
   ],
   "source": [
    "test_input.is_cuda"
   ]
  },
  {
   "cell_type": "code",
   "execution_count": 14,
   "metadata": {},
   "outputs": [
    {
     "data": {
      "text/plain": [
       "True"
      ]
     },
     "execution_count": 14,
     "metadata": {},
     "output_type": "execute_result"
    }
   ],
   "source": [
    "adj_mat.is_cuda"
   ]
  },
  {
   "cell_type": "code",
   "execution_count": 15,
   "metadata": {},
   "outputs": [],
   "source": [
    "torch.manual_seed(1234)\n",
    "\n",
    "\n",
    "predicted = model_utils.predict(loaded_model, test_input, adj_mat)\n",
    "predicted = predicted.cpu().numpy()\n",
    "predicted_denorm = preprocessing_utils.denormalize(predicted, stds[0], means[0])"
   ]
  },
  {
   "cell_type": "code",
   "execution_count": 16,
   "metadata": {},
   "outputs": [
    {
     "data": {
      "text/plain": [
       "array([[[-1.0906575 , -1.0229636 , -0.930424  , -0.8908162 ],\n",
       "        [ 0.34363836,  0.19998197,  0.12976894,  0.09501595],\n",
       "        [-0.6031116 , -0.41707903, -0.24092524, -0.07884623],\n",
       "        [ 0.3337333 ,  0.23605508,  0.18649082,  0.14834271],\n",
       "        [ 0.91212976,  0.9326386 ,  0.9227997 ,  0.9147212 ],\n",
       "        [-0.4083112 , -0.50697845, -0.5739235 , -0.5818916 ],\n",
       "        [ 0.8408299 ,  0.7397768 ,  0.6883941 ,  0.6626566 ],\n",
       "        [-0.720857  , -0.66603637, -0.62737334, -0.59841967],\n",
       "        [ 0.7964021 ,  0.84528226,  0.8412879 ,  0.83432806],\n",
       "        [-0.62074614, -0.6284614 , -0.6223684 , -0.6137146 ],\n",
       "        [ 0.35565573,  0.32931775,  0.3089708 ,  0.30421036],\n",
       "        [-0.88826597, -0.9533316 , -0.9888438 , -0.9855536 ],\n",
       "        [-0.3669536 , -0.14249368,  0.01493241,  0.07078905],\n",
       "        [ 0.78339887,  0.6583471 ,  0.58531713,  0.50920355],\n",
       "        [-0.16910355, -0.20736112, -0.20665021, -0.21880741],\n",
       "        [ 0.3601808 ,  0.31514403,  0.29237378,  0.2675956 ],\n",
       "        [-0.2833616 , -0.3301407 , -0.35765523, -0.35377735],\n",
       "        [-1.8810941 , -1.7837532 , -1.6866862 , -1.6230772 ],\n",
       "        [-0.5617982 , -0.32779515, -0.15906496, -0.08318131],\n",
       "        [ 0.21191771,  0.30575424,  0.3308205 ,  0.35743234],\n",
       "        [-0.2686566 , -0.30454463, -0.312535  , -0.28451097],\n",
       "        [ 0.07350739,  0.00366251, -0.04167928, -0.04331996],\n",
       "        [-0.6682046 , -0.6169162 , -0.5986393 , -0.57119006],\n",
       "        [-0.04680245, -0.12379803, -0.1821649 , -0.21669228],\n",
       "        [ 0.54686123,  0.49723256,  0.4523505 ,  0.42160642],\n",
       "        [ 0.34498   ,  0.343511  ,  0.3365802 ,  0.3392961 ],\n",
       "        [ 0.80227697,  0.65831876,  0.5745604 ,  0.5254557 ],\n",
       "        [ 0.08551838,  0.0193851 , -0.0300685 , -0.02947624],\n",
       "        [ 0.0641824 ,  0.0056975 , -0.04363707, -0.04020138],\n",
       "        [-0.0879219 , -0.15399225, -0.1937267 , -0.16816913],\n",
       "        [ 0.59422606,  0.6459178 ,  0.62401474,  0.60580784],\n",
       "        [ 0.8699555 ,  0.85197306,  0.805741  ,  0.7819724 ],\n",
       "        [ 0.9036206 ,  0.9610494 ,  0.9434835 ,  0.9435921 ],\n",
       "        [-0.09436594, -0.08105431, -0.07685207, -0.06921184],\n",
       "        [ 0.0618364 ,  0.14741293,  0.18874583,  0.21587545],\n",
       "        [-0.59348494, -0.5805398 , -0.5711783 , -0.54934794],\n",
       "        [-0.44093674, -0.40483832, -0.38095242, -0.371674  ],\n",
       "        [ 0.489276  ,  0.45708627,  0.40991175,  0.37437516],\n",
       "        [ 0.17189509,  0.01061751, -0.05923501, -0.09312816],\n",
       "        [ 0.7649815 ,  0.6576082 ,  0.5987894 ,  0.5786081 ],\n",
       "        [-0.5624796 , -0.3968268 , -0.26693237, -0.22111742],\n",
       "        [-0.7379325 , -0.6509643 , -0.6344397 , -0.6302484 ],\n",
       "        [-0.3878485 , -0.23056625, -0.09843285, -0.05054367],\n",
       "        [-0.05515979, -0.0657343 , -0.07552151, -0.09295787],\n",
       "        [ 0.0945939 ,  0.05046321,  0.04641338,  0.03115961],\n",
       "        [ 0.53573865,  0.48830056,  0.49352884,  0.496122  ],\n",
       "        [-0.59572214, -0.66816735, -0.69990546, -0.71779644],\n",
       "        [-0.7617498 , -0.5767391 , -0.4586628 , -0.39376855],\n",
       "        [-0.4998533 , -0.24794553, -0.03994875,  0.03184938],\n",
       "        [-0.52131045, -0.5220655 , -0.52702224, -0.54247224],\n",
       "        [-0.3220113 ,  0.05137469,  0.3192641 ,  0.40598053],\n",
       "        [-1.6902387 , -1.4080397 , -1.2291688 , -1.13362   ],\n",
       "        [-0.27712566,  0.2219917 ,  0.5438492 ,  0.6560185 ]]],\n",
       "      dtype=float32)"
      ]
     },
     "execution_count": 16,
     "metadata": {},
     "output_type": "execute_result"
    }
   ],
   "source": [
    "predicted"
   ]
  },
  {
   "cell_type": "code",
   "execution_count": 17,
   "metadata": {},
   "outputs": [
    {
     "data": {
      "text/plain": [
       "array([[[2.7098317, 2.758624 , 2.825325 , 2.8538735],\n",
       "        [3.743645 , 3.6401   , 3.5894918, 3.5644426],\n",
       "        [3.0612454, 3.1953342, 3.3223026, 3.439126 ],\n",
       "        [3.7365055, 3.666101 , 3.6303759, 3.6028795],\n",
       "        [4.153403 , 4.168185 , 4.1610937, 4.1552706],\n",
       "        [3.201654 , 3.1305363, 3.0822837, 3.0765405],\n",
       "        [4.102011 , 4.029174 , 3.9921384, 3.9735873],\n",
       "        [2.9763768, 3.0158906, 3.0437582, 3.0646274],\n",
       "        [4.0699883, 4.1052203, 4.102341 , 4.097325 ],\n",
       "        [3.0485349, 3.0429738, 3.0473654, 3.053603 ],\n",
       "        [3.752307 , 3.7333229, 3.7186573, 3.715226 ],\n",
       "        [2.8557115, 2.8088136, 2.783217 , 2.7855885],\n",
       "        [3.2314637, 3.3932502, 3.5067198, 3.5469804],\n",
       "        [4.060616 , 3.970481 , 3.9178424, 3.8629813],\n",
       "        [3.3740702, 3.346495 , 3.3470073, 3.3382447],\n",
       "        [3.7555685, 3.7231069, 3.7066944, 3.6888347],\n",
       "        [3.2917151, 3.2579978, 3.2381659, 3.2409608],\n",
       "        [2.1401   , 2.2102613, 2.2802253, 2.3260736],\n",
       "        [3.0910234, 3.2596884, 3.381306 , 3.4360013],\n",
       "        [3.648703 , 3.7163389, 3.734406 , 3.7535872],\n",
       "        [3.3023143, 3.2764468, 3.2706876, 3.2908869],\n",
       "        [3.5489397, 3.4985967, 3.4659152, 3.4647326],\n",
       "        [3.0143275, 3.0512953, 3.064469 , 3.0842538],\n",
       "        [3.4622226, 3.4067256, 3.364656 , 3.3397691],\n",
       "        [3.890124 , 3.8543527, 3.8220026, 3.7998428],\n",
       "        [3.744612 , 3.7435532, 3.7385576, 3.7405152],\n",
       "        [4.074223 , 3.9704607, 3.9100893, 3.8746955],\n",
       "        [3.557597 , 3.5099294, 3.4742842, 3.474711 ],\n",
       "        [3.5422184, 3.5000637, 3.4645042, 3.4669805],\n",
       "        [3.4325845, 3.384962 , 3.3563223, 3.3747437],\n",
       "        [3.9242637, 3.961522 , 3.945735 , 3.9326117],\n",
       "        [4.1230044, 4.110043 , 4.0767198, 4.059588 ],\n",
       "        [4.1472697, 4.188663 , 4.176002 , 4.17608  ],\n",
       "        [3.4279397, 3.4375346, 3.4405634, 3.4460702],\n",
       "        [3.5405273, 3.6022093, 3.6320014, 3.6515558],\n",
       "        [3.0681841, 3.0775146, 3.0842624, 3.0999973],\n",
       "        [3.178138 , 3.204157 , 3.2213736, 3.2280612],\n",
       "        [3.8486178, 3.825416 , 3.7914135, 3.7657995],\n",
       "        [3.6198556, 3.50361  , 3.4532614, 3.4288318],\n",
       "        [4.0473413, 3.9699485, 3.927553 , 3.9130068],\n",
       "        [3.0905323, 3.2099316, 3.3035572, 3.3365796],\n",
       "        [2.9640691, 3.0267541, 3.0386648, 3.0416858],\n",
       "        [3.216403 , 3.3297691, 3.4250083, 3.459526 ],\n",
       "        [3.4561987, 3.448577 , 3.4415224, 3.4289546],\n",
       "        [3.5641384, 3.5323298, 3.5294108, 3.5184162],\n",
       "        [3.8821073, 3.8479147, 3.8516831, 3.8535523],\n",
       "        [3.0665717, 3.0143545, 2.9914782, 2.9785829],\n",
       "        [2.946902 , 3.0802543, 3.1653614, 3.212136 ],\n",
       "        [3.135672 , 3.3172424, 3.4671626, 3.5189133],\n",
       "        [3.120206 , 3.119662 , 3.1160893, 3.1049533],\n",
       "        [3.2638574, 3.5329869, 3.7260764, 3.78858  ],\n",
       "        [2.2776647, 2.4810686, 2.6099954, 2.678865 ],\n",
       "        [3.29621  , 3.6559644, 3.887953 , 3.9688027]]], dtype=float32)"
      ]
     },
     "execution_count": 17,
     "metadata": {},
     "output_type": "execute_result"
    }
   ],
   "source": [
    "predicted_denorm"
   ]
  },
  {
   "cell_type": "code",
   "execution_count": 19,
   "metadata": {},
   "outputs": [
    {
     "data": {
      "text/plain": [
       "array([[[2.7098317, 2.758624 , 2.825325 , 2.8538735],\n",
       "        [3.743645 , 3.6401   , 3.5894918, 3.5644426],\n",
       "        [3.0612454, 3.1953342, 3.3223026, 3.439126 ],\n",
       "        [3.7365055, 3.666101 , 3.6303759, 3.6028795],\n",
       "        [4.153403 , 4.168185 , 4.1610937, 4.1552706],\n",
       "        [3.201654 , 3.1305363, 3.0822837, 3.0765405],\n",
       "        [4.102011 , 4.029174 , 3.9921384, 3.9735873],\n",
       "        [2.9763768, 3.0158906, 3.0437582, 3.0646274],\n",
       "        [4.0699883, 4.1052203, 4.102341 , 4.097325 ],\n",
       "        [3.0485349, 3.0429738, 3.0473654, 3.053603 ],\n",
       "        [3.752307 , 3.7333229, 3.7186573, 3.715226 ],\n",
       "        [2.8557115, 2.8088136, 2.783217 , 2.7855885],\n",
       "        [3.2314637, 3.3932502, 3.5067198, 3.5469804],\n",
       "        [4.060616 , 3.970481 , 3.9178424, 3.8629813],\n",
       "        [3.3740702, 3.346495 , 3.3470073, 3.3382447],\n",
       "        [3.7555685, 3.7231069, 3.7066944, 3.6888347],\n",
       "        [3.2917151, 3.2579978, 3.2381659, 3.2409608],\n",
       "        [2.1401   , 2.2102613, 2.2802253, 2.3260736],\n",
       "        [3.0910234, 3.2596884, 3.381306 , 3.4360013],\n",
       "        [3.648703 , 3.7163389, 3.734406 , 3.7535872],\n",
       "        [3.3023143, 3.2764468, 3.2706876, 3.2908869],\n",
       "        [3.5489397, 3.4985967, 3.4659152, 3.4647326],\n",
       "        [3.0143275, 3.0512953, 3.064469 , 3.0842538],\n",
       "        [3.4622226, 3.4067256, 3.364656 , 3.3397691],\n",
       "        [3.890124 , 3.8543527, 3.8220026, 3.7998428],\n",
       "        [3.744612 , 3.7435532, 3.7385576, 3.7405152],\n",
       "        [4.074223 , 3.9704607, 3.9100893, 3.8746955],\n",
       "        [3.557597 , 3.5099294, 3.4742842, 3.474711 ],\n",
       "        [3.5422184, 3.5000637, 3.4645042, 3.4669805],\n",
       "        [3.4325845, 3.384962 , 3.3563223, 3.3747437],\n",
       "        [3.9242637, 3.961522 , 3.945735 , 3.9326117],\n",
       "        [4.1230044, 4.110043 , 4.0767198, 4.059588 ],\n",
       "        [4.1472697, 4.188663 , 4.176002 , 4.17608  ],\n",
       "        [3.4279397, 3.4375346, 3.4405634, 3.4460702],\n",
       "        [3.5405273, 3.6022093, 3.6320014, 3.6515558],\n",
       "        [3.0681841, 3.0775146, 3.0842624, 3.0999973],\n",
       "        [3.178138 , 3.204157 , 3.2213736, 3.2280612],\n",
       "        [3.8486178, 3.825416 , 3.7914135, 3.7657995],\n",
       "        [3.6198556, 3.50361  , 3.4532614, 3.4288318],\n",
       "        [4.0473413, 3.9699485, 3.927553 , 3.9130068],\n",
       "        [3.0905323, 3.2099316, 3.3035572, 3.3365796],\n",
       "        [2.9640691, 3.0267541, 3.0386648, 3.0416858],\n",
       "        [3.216403 , 3.3297691, 3.4250083, 3.459526 ],\n",
       "        [3.4561987, 3.448577 , 3.4415224, 3.4289546],\n",
       "        [3.5641384, 3.5323298, 3.5294108, 3.5184162],\n",
       "        [3.8821073, 3.8479147, 3.8516831, 3.8535523],\n",
       "        [3.0665717, 3.0143545, 2.9914782, 2.9785829],\n",
       "        [2.946902 , 3.0802543, 3.1653614, 3.212136 ],\n",
       "        [3.135672 , 3.3172424, 3.4671626, 3.5189133],\n",
       "        [3.120206 , 3.119662 , 3.1160893, 3.1049533],\n",
       "        [3.2638574, 3.5329869, 3.7260764, 3.78858  ],\n",
       "        [2.2776647, 2.4810686, 2.6099954, 2.678865 ],\n",
       "        [3.29621  , 3.6559644, 3.887953 , 3.9688027]]], dtype=float32)"
      ]
     },
     "execution_count": 19,
     "metadata": {},
     "output_type": "execute_result"
    }
   ],
   "source": [
    "predicted_denorm"
   ]
  },
  {
   "cell_type": "code",
   "execution_count": 20,
   "metadata": {},
   "outputs": [
    {
     "data": {
      "text/plain": [
       "array([[[2.7098317, 2.758624 ],\n",
       "        [3.743645 , 3.6401   ],\n",
       "        [3.0612454, 3.1953342],\n",
       "        [3.7365055, 3.666101 ],\n",
       "        [4.153403 , 4.168185 ],\n",
       "        [3.201654 , 3.1305363],\n",
       "        [4.102011 , 4.029174 ],\n",
       "        [2.9763768, 3.0158906],\n",
       "        [4.0699883, 4.1052203],\n",
       "        [3.0485349, 3.0429738],\n",
       "        [3.752307 , 3.7333229],\n",
       "        [2.8557115, 2.8088136],\n",
       "        [3.2314637, 3.3932502],\n",
       "        [4.060616 , 3.970481 ],\n",
       "        [3.3740702, 3.346495 ],\n",
       "        [3.7555685, 3.7231069],\n",
       "        [3.2917151, 3.2579978],\n",
       "        [2.1401   , 2.2102613],\n",
       "        [3.0910234, 3.2596884],\n",
       "        [3.648703 , 3.7163389],\n",
       "        [3.3023143, 3.2764468],\n",
       "        [3.5489397, 3.4985967],\n",
       "        [3.0143275, 3.0512953],\n",
       "        [3.4622226, 3.4067256],\n",
       "        [3.890124 , 3.8543527],\n",
       "        [3.744612 , 3.7435532],\n",
       "        [4.074223 , 3.9704607],\n",
       "        [3.557597 , 3.5099294],\n",
       "        [3.5422184, 3.5000637],\n",
       "        [3.4325845, 3.384962 ],\n",
       "        [3.9242637, 3.961522 ],\n",
       "        [4.1230044, 4.110043 ],\n",
       "        [4.1472697, 4.188663 ],\n",
       "        [3.4279397, 3.4375346],\n",
       "        [3.5405273, 3.6022093],\n",
       "        [3.0681841, 3.0775146],\n",
       "        [3.178138 , 3.204157 ],\n",
       "        [3.8486178, 3.825416 ],\n",
       "        [3.6198556, 3.50361  ],\n",
       "        [4.0473413, 3.9699485],\n",
       "        [3.0905323, 3.2099316],\n",
       "        [2.9640691, 3.0267541],\n",
       "        [3.216403 , 3.3297691],\n",
       "        [3.4561987, 3.448577 ],\n",
       "        [3.5641384, 3.5323298],\n",
       "        [3.8821073, 3.8479147],\n",
       "        [3.0665717, 3.0143545],\n",
       "        [2.946902 , 3.0802543],\n",
       "        [3.135672 , 3.3172424],\n",
       "        [3.120206 , 3.119662 ],\n",
       "        [3.2638574, 3.5329869],\n",
       "        [2.2776647, 2.4810686],\n",
       "        [3.29621  , 3.6559644]]], dtype=float32)"
      ]
     },
     "execution_count": 20,
     "metadata": {},
     "output_type": "execute_result"
    }
   ],
   "source": [
    "predicted_denorm[:,:, :2]"
   ]
  },
  {
   "cell_type": "code",
   "execution_count": 21,
   "metadata": {},
   "outputs": [
    {
     "data": {
      "text/plain": [
       "(1, 53, 4)"
      ]
     },
     "execution_count": 21,
     "metadata": {},
     "output_type": "execute_result"
    }
   ],
   "source": [
    "predicted_denorm.shape"
   ]
  },
  {
   "cell_type": "code",
   "execution_count": 22,
   "metadata": {},
   "outputs": [],
   "source": [
    "timestep_speedbands = predicted_denorm.reshape(predicted_denorm.shape[2], predicted_denorm.shape[1])"
   ]
  },
  {
   "cell_type": "code",
   "execution_count": 23,
   "metadata": {},
   "outputs": [
    {
     "data": {
      "text/plain": [
       "array([[2.7098317, 2.758624 , 2.825325 , 2.8538735, 3.743645 , 3.6401   ,\n",
       "        3.5894918, 3.5644426, 3.0612454, 3.1953342, 3.3223026, 3.439126 ,\n",
       "        3.7365055, 3.666101 , 3.6303759, 3.6028795, 4.153403 , 4.168185 ,\n",
       "        4.1610937, 4.1552706, 3.201654 , 3.1305363, 3.0822837, 3.0765405,\n",
       "        4.102011 , 4.029174 , 3.9921384, 3.9735873, 2.9763768, 3.0158906,\n",
       "        3.0437582, 3.0646274, 4.0699883, 4.1052203, 4.102341 , 4.097325 ,\n",
       "        3.0485349, 3.0429738, 3.0473654, 3.053603 , 3.752307 , 3.7333229,\n",
       "        3.7186573, 3.715226 , 2.8557115, 2.8088136, 2.783217 , 2.7855885,\n",
       "        3.2314637, 3.3932502, 3.5067198, 3.5469804, 4.060616 ],\n",
       "       [3.970481 , 3.9178424, 3.8629813, 3.3740702, 3.346495 , 3.3470073,\n",
       "        3.3382447, 3.7555685, 3.7231069, 3.7066944, 3.6888347, 3.2917151,\n",
       "        3.2579978, 3.2381659, 3.2409608, 2.1401   , 2.2102613, 2.2802253,\n",
       "        2.3260736, 3.0910234, 3.2596884, 3.381306 , 3.4360013, 3.648703 ,\n",
       "        3.7163389, 3.734406 , 3.7535872, 3.3023143, 3.2764468, 3.2706876,\n",
       "        3.2908869, 3.5489397, 3.4985967, 3.4659152, 3.4647326, 3.0143275,\n",
       "        3.0512953, 3.064469 , 3.0842538, 3.4622226, 3.4067256, 3.364656 ,\n",
       "        3.3397691, 3.890124 , 3.8543527, 3.8220026, 3.7998428, 3.744612 ,\n",
       "        3.7435532, 3.7385576, 3.7405152, 4.074223 , 3.9704607],\n",
       "       [3.9100893, 3.8746955, 3.557597 , 3.5099294, 3.4742842, 3.474711 ,\n",
       "        3.5422184, 3.5000637, 3.4645042, 3.4669805, 3.4325845, 3.384962 ,\n",
       "        3.3563223, 3.3747437, 3.9242637, 3.961522 , 3.945735 , 3.9326117,\n",
       "        4.1230044, 4.110043 , 4.0767198, 4.059588 , 4.1472697, 4.188663 ,\n",
       "        4.176002 , 4.17608  , 3.4279397, 3.4375346, 3.4405634, 3.4460702,\n",
       "        3.5405273, 3.6022093, 3.6320014, 3.6515558, 3.0681841, 3.0775146,\n",
       "        3.0842624, 3.0999973, 3.178138 , 3.204157 , 3.2213736, 3.2280612,\n",
       "        3.8486178, 3.825416 , 3.7914135, 3.7657995, 3.6198556, 3.50361  ,\n",
       "        3.4532614, 3.4288318, 4.0473413, 3.9699485, 3.927553 ],\n",
       "       [3.9130068, 3.0905323, 3.2099316, 3.3035572, 3.3365796, 2.9640691,\n",
       "        3.0267541, 3.0386648, 3.0416858, 3.216403 , 3.3297691, 3.4250083,\n",
       "        3.459526 , 3.4561987, 3.448577 , 3.4415224, 3.4289546, 3.5641384,\n",
       "        3.5323298, 3.5294108, 3.5184162, 3.8821073, 3.8479147, 3.8516831,\n",
       "        3.8535523, 3.0665717, 3.0143545, 2.9914782, 2.9785829, 2.946902 ,\n",
       "        3.0802543, 3.1653614, 3.212136 , 3.135672 , 3.3172424, 3.4671626,\n",
       "        3.5189133, 3.120206 , 3.119662 , 3.1160893, 3.1049533, 3.2638574,\n",
       "        3.5329869, 3.7260764, 3.78858  , 2.2776647, 2.4810686, 2.6099954,\n",
       "        2.678865 , 3.29621  , 3.6559644, 3.887953 , 3.9688027]],\n",
       "      dtype=float32)"
      ]
     },
     "execution_count": 23,
     "metadata": {},
     "output_type": "execute_result"
    }
   ],
   "source": [
    "timestep_speedbands"
   ]
  },
  {
   "cell_type": "code",
   "execution_count": 24,
   "metadata": {},
   "outputs": [],
   "source": [
    "def loc_to_linestring(loc):\n",
    "    coordArr = loc.split()\n",
    "    coordArr = [float(coord) for coord in coordArr]\n",
    "    return LineString([coordArr[1::-1], coordArr[3:1:-1]])\n",
    "\n",
    "def plotGeoPerformance(metadata, speedbands):\n",
    "    df = pd.DataFrame(metadata).transpose()\n",
    "    df[\"speedbands\"] = speedbands\n",
    "    loc = df[\"start_pos\"] + \" \" + df[\"end_pos\"]\n",
    "    linestrings = loc.apply(loc_to_linestring)\n",
    "    gdf = gpd.GeoDataFrame(df, geometry=linestrings, crs=\"EPSG:4326\")\n",
    "    gdf = gdf.to_crs('EPSG:3857')\n",
    "    fig, ax = plt.subplots(figsize=(10, 10))\n",
    "    gdf.plot(ax=ax, column=\"speedbands\", legend=True, cmap=\"OrRd\", legend_kwds={'label': 'speedbands'})\n",
    "    ax.set_xlabel(\"Longitude\")\n",
    "    ax.set_ylabel(\"Latitude\")\n",
    "    ctx.add_basemap(ax)"
   ]
  },
  {
   "cell_type": "code",
   "execution_count": 25,
   "metadata": {},
   "outputs": [
    {
     "ename": "CRSError",
     "evalue": "Invalid projection: EPSG:4326: (Internal Proj Error: proj_create: SQLite error on SELECT name, type, coordinate_system_auth_name, coordinate_system_code, datum_auth_name, datum_code, area_of_use_auth_name, area_of_use_code, text_definition, deprecated FROM geodetic_crs WHERE auth_name = ? AND code = ?: no such column: area_of_use_auth_name)",
     "output_type": "error",
     "traceback": [
      "\u001b[1;31m---------------------------------------------------------------------------\u001b[0m",
      "\u001b[1;31mCRSError\u001b[0m                                  Traceback (most recent call last)",
      "\u001b[1;32m<ipython-input-25-153918df08bf>\u001b[0m in \u001b[0;36m<module>\u001b[1;34m\u001b[0m\n\u001b[1;32m----> 1\u001b[1;33m \u001b[0mplotGeoPerformance\u001b[0m\u001b[1;33m(\u001b[0m\u001b[0mmetadata\u001b[0m\u001b[1;33m,\u001b[0m \u001b[0mtimestep_speedbands\u001b[0m\u001b[1;33m[\u001b[0m\u001b[1;36m0\u001b[0m\u001b[1;33m]\u001b[0m\u001b[1;33m)\u001b[0m\u001b[1;33m\u001b[0m\u001b[1;33m\u001b[0m\u001b[0m\n\u001b[0m",
      "\u001b[1;32m<ipython-input-24-a829cd16be32>\u001b[0m in \u001b[0;36mplotGeoPerformance\u001b[1;34m(metadata, speedbands)\u001b[0m\n\u001b[0;32m     10\u001b[0m     \u001b[0mlinestrings\u001b[0m \u001b[1;33m=\u001b[0m \u001b[0mloc\u001b[0m\u001b[1;33m.\u001b[0m\u001b[0mapply\u001b[0m\u001b[1;33m(\u001b[0m\u001b[0mloc_to_linestring\u001b[0m\u001b[1;33m)\u001b[0m\u001b[1;33m\u001b[0m\u001b[1;33m\u001b[0m\u001b[0m\n\u001b[0;32m     11\u001b[0m     \u001b[0mgdf\u001b[0m \u001b[1;33m=\u001b[0m \u001b[0mgpd\u001b[0m\u001b[1;33m.\u001b[0m\u001b[0mGeoDataFrame\u001b[0m\u001b[1;33m(\u001b[0m\u001b[0mdf\u001b[0m\u001b[1;33m,\u001b[0m \u001b[0mgeometry\u001b[0m\u001b[1;33m=\u001b[0m\u001b[0mlinestrings\u001b[0m\u001b[1;33m,\u001b[0m \u001b[0mcrs\u001b[0m\u001b[1;33m=\u001b[0m\u001b[1;34m\"EPSG:4326\"\u001b[0m\u001b[1;33m)\u001b[0m\u001b[1;33m\u001b[0m\u001b[1;33m\u001b[0m\u001b[0m\n\u001b[1;32m---> 12\u001b[1;33m     \u001b[0mgdf\u001b[0m \u001b[1;33m=\u001b[0m \u001b[0mgdf\u001b[0m\u001b[1;33m.\u001b[0m\u001b[0mto_crs\u001b[0m\u001b[1;33m(\u001b[0m\u001b[1;34m'EPSG:3857'\u001b[0m\u001b[1;33m)\u001b[0m\u001b[1;33m\u001b[0m\u001b[1;33m\u001b[0m\u001b[0m\n\u001b[0m\u001b[0;32m     13\u001b[0m     \u001b[0mfig\u001b[0m\u001b[1;33m,\u001b[0m \u001b[0max\u001b[0m \u001b[1;33m=\u001b[0m \u001b[0mplt\u001b[0m\u001b[1;33m.\u001b[0m\u001b[0msubplots\u001b[0m\u001b[1;33m(\u001b[0m\u001b[0mfigsize\u001b[0m\u001b[1;33m=\u001b[0m\u001b[1;33m(\u001b[0m\u001b[1;36m10\u001b[0m\u001b[1;33m,\u001b[0m \u001b[1;36m10\u001b[0m\u001b[1;33m)\u001b[0m\u001b[1;33m)\u001b[0m\u001b[1;33m\u001b[0m\u001b[1;33m\u001b[0m\u001b[0m\n\u001b[0;32m     14\u001b[0m     \u001b[0mgdf\u001b[0m\u001b[1;33m.\u001b[0m\u001b[0mplot\u001b[0m\u001b[1;33m(\u001b[0m\u001b[0max\u001b[0m\u001b[1;33m=\u001b[0m\u001b[0max\u001b[0m\u001b[1;33m,\u001b[0m \u001b[0mcolumn\u001b[0m\u001b[1;33m=\u001b[0m\u001b[1;34m\"speedbands\"\u001b[0m\u001b[1;33m,\u001b[0m \u001b[0mlegend\u001b[0m\u001b[1;33m=\u001b[0m\u001b[1;32mTrue\u001b[0m\u001b[1;33m,\u001b[0m \u001b[0mcmap\u001b[0m\u001b[1;33m=\u001b[0m\u001b[1;34m\"OrRd\"\u001b[0m\u001b[1;33m,\u001b[0m \u001b[0mlegend_kwds\u001b[0m\u001b[1;33m=\u001b[0m\u001b[1;33m{\u001b[0m\u001b[1;34m'label'\u001b[0m\u001b[1;33m:\u001b[0m \u001b[1;34m'speedbands'\u001b[0m\u001b[1;33m}\u001b[0m\u001b[1;33m)\u001b[0m\u001b[1;33m\u001b[0m\u001b[1;33m\u001b[0m\u001b[0m\n",
      "\u001b[1;32m~\\Anaconda3\\envs\\torch\\lib\\site-packages\\geopandas\\geodataframe.py\u001b[0m in \u001b[0;36mto_crs\u001b[1;34m(self, crs, epsg, inplace)\u001b[0m\n\u001b[0;32m    543\u001b[0m         \u001b[1;32melse\u001b[0m\u001b[1;33m:\u001b[0m\u001b[1;33m\u001b[0m\u001b[1;33m\u001b[0m\u001b[0m\n\u001b[0;32m    544\u001b[0m             \u001b[0mdf\u001b[0m \u001b[1;33m=\u001b[0m \u001b[0mself\u001b[0m\u001b[1;33m.\u001b[0m\u001b[0mcopy\u001b[0m\u001b[1;33m(\u001b[0m\u001b[1;33m)\u001b[0m\u001b[1;33m\u001b[0m\u001b[1;33m\u001b[0m\u001b[0m\n\u001b[1;32m--> 545\u001b[1;33m         \u001b[0mgeom\u001b[0m \u001b[1;33m=\u001b[0m \u001b[0mdf\u001b[0m\u001b[1;33m.\u001b[0m\u001b[0mgeometry\u001b[0m\u001b[1;33m.\u001b[0m\u001b[0mto_crs\u001b[0m\u001b[1;33m(\u001b[0m\u001b[0mcrs\u001b[0m\u001b[1;33m=\u001b[0m\u001b[0mcrs\u001b[0m\u001b[1;33m,\u001b[0m \u001b[0mepsg\u001b[0m\u001b[1;33m=\u001b[0m\u001b[0mepsg\u001b[0m\u001b[1;33m)\u001b[0m\u001b[1;33m\u001b[0m\u001b[1;33m\u001b[0m\u001b[0m\n\u001b[0m\u001b[0;32m    546\u001b[0m         \u001b[0mdf\u001b[0m\u001b[1;33m.\u001b[0m\u001b[0mgeometry\u001b[0m \u001b[1;33m=\u001b[0m \u001b[0mgeom\u001b[0m\u001b[1;33m\u001b[0m\u001b[1;33m\u001b[0m\u001b[0m\n\u001b[0;32m    547\u001b[0m         \u001b[0mdf\u001b[0m\u001b[1;33m.\u001b[0m\u001b[0mcrs\u001b[0m \u001b[1;33m=\u001b[0m \u001b[0mgeom\u001b[0m\u001b[1;33m.\u001b[0m\u001b[0mcrs\u001b[0m\u001b[1;33m\u001b[0m\u001b[1;33m\u001b[0m\u001b[0m\n",
      "\u001b[1;32m~\\Anaconda3\\envs\\torch\\lib\\site-packages\\geopandas\\geoseries.py\u001b[0m in \u001b[0;36mto_crs\u001b[1;34m(self, crs, epsg)\u001b[0m\n\u001b[0;32m    407\u001b[0m \u001b[1;33m\u001b[0m\u001b[0m\n\u001b[0;32m    408\u001b[0m         \u001b[1;31m# skip transformation if the input CRS and output CRS are the exact same\u001b[0m\u001b[1;33m\u001b[0m\u001b[1;33m\u001b[0m\u001b[1;33m\u001b[0m\u001b[0m\n\u001b[1;32m--> 409\u001b[1;33m         if _PYPROJ_VERSION >= LooseVersion(\"2.1.2\") and pyproj.CRS.from_user_input(\n\u001b[0m\u001b[0;32m    410\u001b[0m             \u001b[0mself\u001b[0m\u001b[1;33m.\u001b[0m\u001b[0mcrs\u001b[0m\u001b[1;33m\u001b[0m\u001b[1;33m\u001b[0m\u001b[0m\n\u001b[0;32m    411\u001b[0m         ).is_exact_same(pyproj.CRS.from_user_input(crs)):\n",
      "\u001b[1;32m~\\Anaconda3\\envs\\torch\\lib\\site-packages\\pyproj\\crs.py\u001b[0m in \u001b[0;36mfrom_user_input\u001b[1;34m(cls, value)\u001b[0m\n\u001b[0;32m    578\u001b[0m         \u001b[1;32mif\u001b[0m \u001b[0misinstance\u001b[0m\u001b[1;33m(\u001b[0m\u001b[0mvalue\u001b[0m\u001b[1;33m,\u001b[0m \u001b[0mCRS\u001b[0m\u001b[1;33m)\u001b[0m\u001b[1;33m:\u001b[0m\u001b[1;33m\u001b[0m\u001b[1;33m\u001b[0m\u001b[0m\n\u001b[0;32m    579\u001b[0m             \u001b[1;32mreturn\u001b[0m \u001b[0mvalue\u001b[0m\u001b[1;33m\u001b[0m\u001b[1;33m\u001b[0m\u001b[0m\n\u001b[1;32m--> 580\u001b[1;33m         \u001b[1;32mreturn\u001b[0m \u001b[0mcls\u001b[0m\u001b[1;33m(\u001b[0m\u001b[0mvalue\u001b[0m\u001b[1;33m)\u001b[0m\u001b[1;33m\u001b[0m\u001b[1;33m\u001b[0m\u001b[0m\n\u001b[0m\u001b[0;32m    581\u001b[0m \u001b[1;33m\u001b[0m\u001b[0m\n\u001b[0;32m    582\u001b[0m     \u001b[1;32mdef\u001b[0m \u001b[0mget_geod\u001b[0m\u001b[1;33m(\u001b[0m\u001b[0mself\u001b[0m\u001b[1;33m)\u001b[0m\u001b[1;33m:\u001b[0m\u001b[1;33m\u001b[0m\u001b[1;33m\u001b[0m\u001b[0m\n",
      "\u001b[1;32m~\\Anaconda3\\envs\\torch\\lib\\site-packages\\pyproj\\crs.py\u001b[0m in \u001b[0;36m__init__\u001b[1;34m(self, projparams, **kwargs)\u001b[0m\n\u001b[0;32m    434\u001b[0m             \u001b[1;32mraise\u001b[0m \u001b[0mCRSError\u001b[0m\u001b[1;33m(\u001b[0m\u001b[1;34m\"Invalid CRS input: {!r}\"\u001b[0m\u001b[1;33m.\u001b[0m\u001b[0mformat\u001b[0m\u001b[1;33m(\u001b[0m\u001b[0mprojparams\u001b[0m\u001b[1;33m)\u001b[0m\u001b[1;33m)\u001b[0m\u001b[1;33m\u001b[0m\u001b[1;33m\u001b[0m\u001b[0m\n\u001b[0;32m    435\u001b[0m \u001b[1;33m\u001b[0m\u001b[0m\n\u001b[1;32m--> 436\u001b[1;33m         \u001b[0msuper\u001b[0m\u001b[1;33m(\u001b[0m\u001b[0mCRS\u001b[0m\u001b[1;33m,\u001b[0m \u001b[0mself\u001b[0m\u001b[1;33m)\u001b[0m\u001b[1;33m.\u001b[0m\u001b[0m__init__\u001b[0m\u001b[1;33m(\u001b[0m\u001b[0mprojstring\u001b[0m\u001b[1;33m)\u001b[0m\u001b[1;33m\u001b[0m\u001b[1;33m\u001b[0m\u001b[0m\n\u001b[0m\u001b[0;32m    437\u001b[0m \u001b[1;33m\u001b[0m\u001b[0m\n\u001b[0;32m    438\u001b[0m     \u001b[1;33m@\u001b[0m\u001b[0mclassmethod\u001b[0m\u001b[1;33m\u001b[0m\u001b[1;33m\u001b[0m\u001b[0m\n",
      "\u001b[1;32mpyproj/_crs.pyx\u001b[0m in \u001b[0;36mpyproj._crs._CRS.__init__\u001b[1;34m()\u001b[0m\n",
      "\u001b[1;31mCRSError\u001b[0m: Invalid projection: EPSG:4326: (Internal Proj Error: proj_create: SQLite error on SELECT name, type, coordinate_system_auth_name, coordinate_system_code, datum_auth_name, datum_code, area_of_use_auth_name, area_of_use_code, text_definition, deprecated FROM geodetic_crs WHERE auth_name = ? AND code = ?: no such column: area_of_use_auth_name)"
     ]
    }
   ],
   "source": [
    "plotGeoPerformance(metadata, timestep_speedbands[0])"
   ]
  },
  {
   "cell_type": "code",
   "execution_count": null,
   "metadata": {},
   "outputs": [],
   "source": []
  },
  {
   "cell_type": "code",
   "execution_count": null,
   "metadata": {},
   "outputs": [],
   "source": []
  },
  {
   "cell_type": "code",
   "execution_count": null,
   "metadata": {},
   "outputs": [],
   "source": []
  }
 ],
 "metadata": {
  "kernelspec": {
   "display_name": "Python 3",
   "language": "python",
   "name": "python3"
  },
  "language_info": {
   "codemirror_mode": {
    "name": "ipython",
    "version": 3
   },
   "file_extension": ".py",
   "mimetype": "text/x-python",
   "name": "python",
   "nbconvert_exporter": "python",
   "pygments_lexer": "ipython3",
   "version": "3.8.5"
  }
 },
 "nbformat": 4,
 "nbformat_minor": 4
}
