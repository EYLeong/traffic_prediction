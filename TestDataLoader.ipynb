{
 "cells": [
  {
   "cell_type": "code",
   "execution_count": 1,
   "metadata": {},
   "outputs": [],
   "source": [
    "from utils import processed, load, denormalize, get_normalized_adj, generate_dataset\n",
    "import torch"
   ]
  },
  {
   "cell_type": "code",
   "execution_count": 2,
   "metadata": {},
   "outputs": [],
   "source": [
    "num_timesteps_input = 6 # 30 minutes\n",
    "num_timesteps_output = 2 # 10 minutes"
   ]
  },
  {
   "cell_type": "code",
   "execution_count": 3,
   "metadata": {},
   "outputs": [],
   "source": [
    "raw_trunc_dir = \"./data/raw/trunc/\"\n",
    "process_dir = \"./data/processed/\"\n",
    "\n",
    "# overwrite = False means that the processing function will only run if the process data files do not exist\n",
    "# overwrite = True => functions will run regardless\n",
    "processed(raw_trunc_dir, process_dir, overwrite=False)\n",
    "A, X, metadata, means, stds = load(process_dir)\n",
    "\n",
    "split_line1 = int(X.shape[2] * 0.6)\n",
    "split_line2 = int(X.shape[2] * 0.8)\n",
    "\n",
    "train_original_data = X[:, :, :split_line1]\n",
    "val_original_data = X[:, :, split_line1:split_line2]\n",
    "test_original_data = X[:, :, split_line2:]\n",
    "\n",
    "training_input, training_target = generate_dataset(train_original_data,\n",
    "                                                   num_timesteps_input=num_timesteps_input,\n",
    "                                                   num_timesteps_output=num_timesteps_output)\n",
    "val_input, val_target = generate_dataset(val_original_data,\n",
    "                                         num_timesteps_input=num_timesteps_input,\n",
    "                                         num_timesteps_output=num_timesteps_output)\n",
    "test_input, test_target = generate_dataset(test_original_data,\n",
    "                                           num_timesteps_input=num_timesteps_input,\n",
    "                                           num_timesteps_output=num_timesteps_output)\n",
    "# input shape (num_samples ,num_vertices, num_timesteps_window, num_features)\n",
    "# output shape (num_samples ,num_vertices, num_timesteps_window)\n",
    "A_wave = get_normalized_adj(A)\n",
    "A_wave = torch.from_numpy(A_wave)"
   ]
  },
  {
   "cell_type": "code",
   "execution_count": 4,
   "metadata": {},
   "outputs": [
    {
     "name": "stdout",
     "output_type": "stream",
     "text": [
      "training input shape: torch.Size([4491, 53, 6, 3]) training target shape: torch.Size([4491, 53, 2])\n",
      "val input shape: torch.Size([1492, 53, 6, 3]) val target shape: torch.Size([1492, 53, 2])\n",
      "test input shape: torch.Size([1493, 53, 6, 3]) test target shape: torch.Size([1493, 53, 2])\n",
      "Adjacency matrix shape: (53, 53)\n",
      "Adjacency matrix shape: torch.Size([53, 53])\n"
     ]
    }
   ],
   "source": [
    "print(f\"training input shape: {training_input.shape} training target shape: {training_target.shape}\")\n",
    "print(f\"val input shape: {val_input.shape} val target shape: {val_target.shape}\")\n",
    "print(f\"test input shape: {test_input.shape} test target shape: {test_target.shape}\")\n",
    "print(f\"Adjacency matrix shape: {A.shape}\")\n",
    "print(f\"Adjacency matrix shape: {A_wave.shape}\")"
   ]
  },
  {
   "cell_type": "code",
   "execution_count": 5,
   "metadata": {},
   "outputs": [
    {
     "name": "stdout",
     "output_type": "stream",
     "text": [
      "{'B': 0, 'C': 1}\n",
      "[3.993683   0.9056604  0.05673373]\n",
      "[1.0052049  0.29230058 0.03545753]\n"
     ]
    }
   ],
   "source": [
    "print(metadata)\n",
    "print(means)\n",
    "print(stds)"
   ]
  },
  {
   "cell_type": "code",
   "execution_count": 6,
   "metadata": {},
   "outputs": [
    {
     "data": {
      "text/plain": [
       "tensor([[[4., 4.],\n",
       "         [5., 4.],\n",
       "         [4., 4.],\n",
       "         ...,\n",
       "         [4., 5.],\n",
       "         [4., 4.],\n",
       "         [4., 5.]],\n",
       "\n",
       "        [[4., 4.],\n",
       "         [4., 4.],\n",
       "         [4., 5.],\n",
       "         ...,\n",
       "         [5., 5.],\n",
       "         [4., 4.],\n",
       "         [5., 5.]],\n",
       "\n",
       "        [[4., 4.],\n",
       "         [4., 4.],\n",
       "         [5., 5.],\n",
       "         ...,\n",
       "         [5., 4.],\n",
       "         [4., 4.],\n",
       "         [5., 4.]],\n",
       "\n",
       "        ...,\n",
       "\n",
       "        [[3., 3.],\n",
       "         [3., 3.],\n",
       "         [4., 4.],\n",
       "         ...,\n",
       "         [4., 4.],\n",
       "         [3., 3.],\n",
       "         [5., 5.]],\n",
       "\n",
       "        [[3., 3.],\n",
       "         [3., 3.],\n",
       "         [4., 4.],\n",
       "         ...,\n",
       "         [4., 4.],\n",
       "         [3., 3.],\n",
       "         [5., 5.]],\n",
       "\n",
       "        [[3., 3.],\n",
       "         [3., 3.],\n",
       "         [4., 6.],\n",
       "         ...,\n",
       "         [4., 4.],\n",
       "         [3., 3.],\n",
       "         [5., 5.]]])"
      ]
     },
     "execution_count": 6,
     "metadata": {},
     "output_type": "execute_result"
    }
   ],
   "source": [
    "# how to denormalize the speedband\n",
    "denormalize(training_target, stds[0], means[0])"
   ]
  }
 ],
 "metadata": {
  "kernelspec": {
   "display_name": "Python 3",
   "language": "python",
   "name": "python3"
  },
  "language_info": {
   "codemirror_mode": {
    "name": "ipython",
    "version": 3
   },
   "file_extension": ".py",
   "mimetype": "text/x-python",
   "name": "python",
   "nbconvert_exporter": "python",
   "pygments_lexer": "ipython3",
   "version": "3.7.3"
  }
 },
 "nbformat": 4,
 "nbformat_minor": 4
}
