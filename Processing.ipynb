{
 "cells": [
  {
   "cell_type": "markdown",
   "metadata": {
    "collapsed": true
   },
   "source": [
    "# Processing\n",
    "\n",
    "Create functions to produce X matrix and A matrix needed for the model"
   ]
  },
  {
   "cell_type": "code",
   "execution_count": 1,
   "metadata": {},
   "outputs": [],
   "source": [
    "import json\n",
    "import numpy as np\n",
    "from copy import deepcopy\n",
    "import math"
   ]
  },
  {
   "cell_type": "code",
   "execution_count": 2,
   "metadata": {},
   "outputs": [],
   "source": [
    "# The higher level processing function would loop through the different file paths.\n",
    "# For this notebook, we will use one of the defined file paths\n",
    "data_file_path = 'truncated_data/trunc/Wed_Mar_10_2021/15_40_09.txt'"
   ]
  },
  {
   "cell_type": "markdown",
   "metadata": {},
   "source": [
    "## Adjacency Matrix\n",
    "Note: The adjacency matrix only needs to be pre-generated once on one of the datasets and saved as a .npy file, and subsequently loaded if needed."
   ]
  },
  {
   "cell_type": "code",
   "execution_count": null,
   "metadata": {},
   "outputs": [],
   "source": [
    "with open(data_file_path, 'r') as traffic_data_file: # Dataset is a list of objects\n",
    "    traffic_records = json.load(traffic_data_file)"
   ]
  },
  {
   "cell_type": "code",
   "execution_count": null,
   "metadata": {},
   "outputs": [],
   "source": []
  },
  {
   "cell_type": "code",
   "execution_count": 14,
   "metadata": {},
   "outputs": [],
   "source": [
    "def get_adjacency(file_path):\n",
    "    '''\n",
    "    Generates an Adjacency matrix\n",
    "    -----------------------------\n",
    "    :param str file_path: the file path of the dataset\n",
    "    -----------------------------\n",
    "    :returns:\n",
    "        npy: Adjacency matrix\n",
    "    '''\n",
    "    with open(file_path, 'r') as traffic_data_file:\n",
    "        traffic_records = json.load(traffic_data_file)\n",
    "    \n",
    "    # Format traffic_records so we can get the start & end location positions of the link\n",
    "    traffic_records_formatted = []\n",
    "    for record in traffic_records:\n",
    "        record = deepcopy(record)\n",
    "        lat_long_positions = record['Location'].split()\n",
    "        record['start_pos'] = ' '. join(lat_long_positions[0:2])\n",
    "        record['end_pos'] = ' '. join(lat_long_positions[2:4])\n",
    "        traffic_records_formatted.append(record)\n",
    "    traffic_records_formatted.sort(key=lambda x: int(x.get('LinkID')))\n",
    "    \n",
    "    # Generate Node Mappings\n",
    "    nodes_params_dict = {}\n",
    "    Nodes2LinkID = {} # not needed\n",
    "    LinkID2Nodes = {} # not needed\n",
    "    for i, record in enumerate(traffic_records_formatted):\n",
    "        record = deepcopy(record)\n",
    "        Nodes2LinkID[i] = record['LinkID']\n",
    "        LinkID2Nodes[record['LinkID']] = i\n",
    "        nodes_params_dict[i] = record\n",
    "    \n",
    "    \n",
    "    # Generating a Directed Adjacency matrix\n",
    "    '''\n",
    "    Refer to illustrations\n",
    "    To find a directed adjacency, we need to check each link(node)\n",
    "    There is a directed adjacency from Node A to Node B if the end_pos of Node A is the start_pos of Node B\n",
    "\n",
    "    This involves us having to loop through all nodes with: O(n^2) complexity\n",
    "    (Computation and speed optimisation is not a concern here as this is pre-generated before training)\n",
    "    '''\n",
    "    nodes_count = len(nodes_params_dict)\n",
    "    A = np.zeros((nodes_count,nodes_count), dtype=int)  \n",
    "    # Finding the directed edges of the nodes\n",
    "    for i, i_record in nodes_params_dict.items():\n",
    "        # print(f'=====> Finding edges for Node: {i}, LinkID: {i_record[\"LinkID\"]}')\n",
    "        for j, j_record in nodes_params_dict.items():\n",
    "            if i_record['end_pos'] == j_record['start_pos']:\n",
    "                # print(f'Found a Directed Edge from Node {i} to Node {j}')\n",
    "                A[i,j] = 1\n",
    "\n",
    "    return A"
   ]
  },
  {
   "cell_type": "code",
   "execution_count": 15,
   "metadata": {},
   "outputs": [],
   "source": [
    "A = get_adjacency(data_file_path)"
   ]
  },
  {
   "cell_type": "code",
   "execution_count": 16,
   "metadata": {},
   "outputs": [
    {
     "name": "stdout",
     "output_type": "stream",
     "text": [
      "[[0 0 0 ... 0 0 0]\n",
      " [0 0 0 ... 0 0 0]\n",
      " [1 0 0 ... 0 0 0]\n",
      " ...\n",
      " [0 0 0 ... 0 0 0]\n",
      " [0 0 0 ... 0 0 0]\n",
      " [0 0 0 ... 1 0 0]]\n",
      "(53, 53)\n"
     ]
    }
   ],
   "source": [
    "print(A)\n",
    "print(A.shape)"
   ]
  },
  {
   "cell_type": "markdown",
   "metadata": {},
   "source": [
    "## Feature Matrix\n",
    "Note: Feature Matrix, X, would contain the output speedband as well.\n",
    "> Actually get_adjacency() & get_features() can be combined together.\n",
    "> Its okay to leave it separate for now."
   ]
  },
  {
   "cell_type": "code",
   "execution_count": 54,
   "metadata": {},
   "outputs": [],
   "source": [
    "def link_length(start_pos, end_pos):\n",
    "    \"\"\"\n",
    "    Calculation of distance between two lat-long geo positions, using Haversine distance\n",
    "    ------------------------------------\n",
    "    :param string start_pos: lat & long separated with a space\n",
    "    :param string end_pos: lat & long separated with a space\n",
    "    ------------------------------------\n",
    "    :returns:\n",
    "        float: total length of the link\n",
    "    \"\"\"\n",
    "    lat1, lon1 = [float(pos) for pos in start_pos.split()]\n",
    "    lat2, lon2 = [float(pos) for pos in end_pos.split()]\n",
    "    radius = 6371\n",
    "    dlat = math.radians(lat2 - lat1)\n",
    "    dlon = math.radians(lon2 - lon1)\n",
    "    a = (math.sin(dlat / 2) * math.sin(dlat / 2) +\n",
    "         math.cos(math.radians(lat1)) * math.cos(math.radians(lat2)) *\n",
    "         math.sin(dlon / 2) * math.sin(dlon / 2))\n",
    "    d = radius * (2 * np.arctan2(np.sqrt(a), np.sqrt(1 - a)))\n",
    "    return d\n",
    "\n",
    "\n",
    "def get_features(file_path):\n",
    "    '''\n",
    "    Generates a Feature matrix\n",
    "    Note: Feature Matrix, X, would contain the output speedband as well. \n",
    "    -----------------------------\n",
    "    :param str file_path: the file path of the dataset\n",
    "    -----------------------------\n",
    "    :returns:\n",
    "        npy: Feature matrix\n",
    "        dict: Metadata of parameters\n",
    "    '''\n",
    "    with open(file_path, 'r') as traffic_data_file:\n",
    "        traffic_records = json.load(traffic_data_file)\n",
    "    \n",
    "    # Find out all Road Categories\n",
    "    roadcategory_list = []\n",
    "    for record in traffic_records:\n",
    "        if record['RoadCategory'] not in roadcategory_list:\n",
    "            roadcategory_list.append(record['RoadCategory'])\n",
    "    roadcategory_list.sort()\n",
    "    Index2RoadCat = {}\n",
    "    RoadCat2Index = {}\n",
    "    for i, cat in enumerate(roadcategory_list):\n",
    "        Index2RoadCat[i] = cat\n",
    "        RoadCat2Index[cat] = i\n",
    "\n",
    "    \n",
    "    # Format traffic_records to include additional field on length of link\n",
    "    traffic_records_formatted = []\n",
    "    for record in traffic_records:\n",
    "        record = deepcopy(record)\n",
    "        lat_long_positions = record['Location'].split()\n",
    "        record['start_pos'] = ' '. join(lat_long_positions[0:2])\n",
    "        record['end_pos'] = ' '. join(lat_long_positions[2:4])\n",
    "        record['length'] = link_length(record['start_pos'], record['end_pos'])\n",
    "        traffic_records_formatted.append(record)\n",
    "    \n",
    "    # Generate Node Mappings\n",
    "    nodes_params_dict = {}\n",
    "    Nodes2LinkID = {} # not needed\n",
    "    LinkID2Nodes = {} # not needed\n",
    "    for i, record in enumerate(traffic_records_formatted):\n",
    "        record = deepcopy(record)\n",
    "        Nodes2LinkID[i] = record['LinkID']\n",
    "        LinkID2Nodes[record['LinkID']] = i\n",
    "        nodes_params_dict[i] = record\n",
    "        \n",
    "    nodes_count = len(nodes_params_dict)\n",
    "    num_features = 3\n",
    "    X = []\n",
    "    # Positions of Features\n",
    "    # 0. SpeedBand\n",
    "    # 1. RoadCategory\n",
    "    # 2. Length of Link\n",
    "    for i, record in nodes_params_dict.items():\n",
    "        features = [float(record['SpeedBand']),RoadCat2Index[record['RoadCategory']],record['length'] ]\n",
    "        X.append(features)\n",
    "#         X[i][0] = float(record['SpeedBand'])\n",
    "#         X[i][1] = RoadCat2Index[record['RoadCategory']]\n",
    "#         X[i][2] = record['length']\n",
    "    \n",
    "    \n",
    "    return np.array(X), nodes_params_dict, RoadCat2Index"
   ]
  },
  {
   "cell_type": "code",
   "execution_count": 57,
   "metadata": {},
   "outputs": [
    {
     "name": "stdout",
     "output_type": "stream",
     "text": [
      "[[3.         1.         0.08698627]\n",
      " [3.         1.         0.04609998]\n",
      " [4.         1.         0.1214745 ]\n",
      " [4.         1.         0.11285454]\n",
      " [4.         1.         0.01773246]\n",
      " [3.         1.         0.04363278]\n",
      " [4.         1.         0.03261392]\n",
      " [3.         1.         0.1313504 ]\n",
      " [5.         1.         0.04696537]\n",
      " [3.         1.         0.05844392]\n",
      " [4.         1.         0.09699181]\n",
      " [3.         1.         0.09690966]\n",
      " [4.         1.         0.05646912]\n",
      " [4.         1.         0.0756916 ]\n",
      " [4.         1.         0.0756916 ]\n",
      " [4.         1.         0.01459941]\n",
      " [4.         1.         0.01459941]\n",
      " [3.         1.         0.11190635]\n",
      " [3.         1.         0.05695016]\n",
      " [5.         0.         0.0220174 ]\n",
      " [3.         1.         0.10814834]\n",
      " [3.         1.         0.10814834]\n",
      " [3.         1.         0.03501077]\n",
      " [4.         1.         0.01996475]\n",
      " [4.         1.         0.02847569]\n",
      " [4.         1.         0.02155576]\n",
      " [4.         0.         0.00992923]\n",
      " [4.         0.         0.04437611]\n",
      " [4.         0.         0.05820612]\n",
      " [4.         0.         0.07924044]\n",
      " [5.         1.         0.05722867]\n",
      " [4.         1.         0.07225852]\n",
      " [5.         1.         0.0276736 ]\n",
      " [3.         1.         0.03127794]\n",
      " [3.         1.         0.03127794]\n",
      " [4.         1.         0.06409805]\n",
      " [4.         1.         0.06786836]\n",
      " [4.         1.         0.02990108]\n",
      " [4.         1.         0.06113551]\n",
      " [4.         1.         0.06113551]\n",
      " [3.         1.         0.02400128]\n",
      " [4.         1.         0.05438946]\n",
      " [5.         1.         0.04230446]\n",
      " [4.         1.         0.03439728]\n",
      " [4.         1.         0.01172821]\n",
      " [3.         1.         0.01172821]\n",
      " [4.         1.         0.14609751]\n",
      " [3.         1.         0.09510337]\n",
      " [4.         1.         0.12527821]\n",
      " [2.         1.         0.04130236]\n",
      " [4.         1.         0.02128857]\n",
      " [3.         1.         0.04638176]\n",
      " [5.         1.         0.01599634]]\n",
      "{0: {'LinkID': '103000423', 'Location': '1.303367431108309 103.83695623568973 1.3037416943275602 103.83626910885548', 'MaximumSpeed': '29', 'MinimumSpeed': '20', 'RoadCategory': 'C', 'RoadName': 'BIDEFORD ROAD', 'SpeedBand': 3, 'start_pos': '1.303367431108309 103.83695623568973', 'end_pos': '1.3037416943275602 103.83626910885548', 'length': 0.08698627048892511}, 1: {'LinkID': '103000768', 'Location': '1.304865918473938 103.836845680642 1.3052352879030098 103.83703400759208', 'MaximumSpeed': '29', 'MinimumSpeed': '20', 'RoadCategory': 'C', 'RoadName': 'BIDEFORD ROAD', 'SpeedBand': 3, 'start_pos': '1.304865918473938 103.836845680642', 'end_pos': '1.3052352879030098 103.83703400759208', 'length': 0.04609997603750421}, 2: {'LinkID': '103000843', 'Location': '1.3022825552999076 103.83682781397152 1.303367431108309 103.83695623568973', 'MaximumSpeed': '39', 'MinimumSpeed': '30', 'RoadCategory': 'C', 'RoadName': 'BIDEFORD ROAD', 'SpeedBand': 4, 'start_pos': '1.3022825552999076 103.83682781397152', 'end_pos': '1.303367431108309 103.83695623568973', 'length': 0.12147449704686236}, 3: {'LinkID': '103000980', 'Location': '1.302472770809991 103.83647688713734 1.303367431108309 103.83695623568973', 'MaximumSpeed': '39', 'MinimumSpeed': '30', 'RoadCategory': 'C', 'RoadName': 'BIDEFORD ROAD', 'SpeedBand': 4, 'start_pos': '1.302472770809991 103.83647688713734', 'end_pos': '1.303367431108309 103.83695623568973', 'length': 0.11285453984469078}, 4: {'LinkID': '103004580', 'Location': '1.3052352879030098 103.83703400759208 1.30507659899449 103.83704979482759', 'MaximumSpeed': '39', 'MinimumSpeed': '30', 'RoadCategory': 'C', 'RoadName': 'CAIRNHILL ROAD', 'SpeedBand': 4, 'start_pos': '1.3052352879030098 103.83703400759208', 'end_pos': '1.30507659899449 103.83704979482759', 'length': 0.017732462839684347}, 5: {'LinkID': '103005716', 'Location': '1.3045092553215205 103.83668202785353 1.304865918473938 103.836845680642', 'MaximumSpeed': '29', 'MinimumSpeed': '20', 'RoadCategory': 'C', 'RoadName': 'BIDEFORD ROAD', 'SpeedBand': 3, 'start_pos': '1.3045092553215205 103.83668202785353', 'end_pos': '1.304865918473938 103.836845680642', 'length': 0.04363277511139554}, 6: {'LinkID': '103007532', 'Location': '1.30507659899449 103.83704979482759 1.304865918473938 103.836845680642', 'MaximumSpeed': '39', 'MinimumSpeed': '30', 'RoadCategory': 'C', 'RoadName': 'CAIRNHILL ROAD', 'SpeedBand': 4, 'start_pos': '1.30507659899449 103.83704979482759', 'end_pos': '1.304865918473938 103.836845680642', 'length': 0.03261392385784067}, 7: {'LinkID': '103007692', 'Location': '1.3035489358103933 103.83776887220807 1.302368106775232 103.83773686393967', 'MaximumSpeed': '29', 'MinimumSpeed': '20', 'RoadCategory': 'C', 'RoadName': 'CAIRNHILL ROAD', 'SpeedBand': 3, 'start_pos': '1.3035489358103933 103.83776887220807', 'end_pos': '1.302368106775232 103.83773686393967', 'length': 0.1313504024893479}, 8: {'LinkID': '103007800', 'Location': '1.3048217218355944 103.83707467521215 1.3044183116533392 103.83719983316885', 'MaximumSpeed': '49', 'MinimumSpeed': '40', 'RoadCategory': 'C', 'RoadName': 'CAIRNHILL ROAD', 'SpeedBand': 5, 'start_pos': '1.3048217218355944 103.83707467521215', 'end_pos': '1.3044183116533392 103.83719983316885', 'length': 0.04696536854989485}, 9: {'LinkID': '103008040', 'Location': '1.3045092553215205 103.83668202785353 1.3044183116533392 103.83719983316885', 'MaximumSpeed': '29', 'MinimumSpeed': '20', 'RoadCategory': 'C', 'RoadName': 'BIDEFORD ROAD', 'SpeedBand': 3, 'start_pos': '1.3045092553215205 103.83668202785353', 'end_pos': '1.3044183116533392 103.83719983316885', 'length': 0.058443924344850066}, 10: {'LinkID': '103008060', 'Location': '1.3044183116533392 103.83719983316885 1.303741945372438 103.83775077582264', 'MaximumSpeed': '39', 'MinimumSpeed': '30', 'RoadCategory': 'C', 'RoadName': 'CAIRNHILL ROAD', 'SpeedBand': 4, 'start_pos': '1.3044183116533392 103.83719983316885', 'end_pos': '1.303741945372438 103.83775077582264', 'length': 0.09699180637850928}, 11: {'LinkID': '103009728', 'Location': '1.3037416943275602 103.83626910885548 1.3045092553215205 103.83668202785353', 'MaximumSpeed': '29', 'MinimumSpeed': '20', 'RoadCategory': 'C', 'RoadName': 'BIDEFORD ROAD', 'SpeedBand': 3, 'start_pos': '1.3037416943275602 103.83626910885548', 'end_pos': '1.3045092553215205 103.83668202785353', 'length': 0.09690965826178884}, 12: {'LinkID': '103009752', 'Location': '1.300894140137005 103.83506536931073 1.301338273505198 103.83531169687328', 'MaximumSpeed': '39', 'MinimumSpeed': '30', 'RoadCategory': 'C', 'RoadName': 'ORCHARD LINK', 'SpeedBand': 4, 'start_pos': '1.300894140137005 103.83506536931073', 'end_pos': '1.301338273505198 103.83531169687328', 'length': 0.05646911835324312}, 13: {'LinkID': '103009774', 'Location': '1.3061465225897502 103.83880185559083 1.3062377442937452 103.8394766018514', 'MaximumSpeed': '39', 'MinimumSpeed': '30', 'RoadCategory': 'C', 'RoadName': 'CAIRNHILL CIRCLE', 'SpeedBand': 4, 'start_pos': '1.3061465225897502 103.83880185559083', 'end_pos': '1.3062377442937452 103.8394766018514', 'length': 0.07569159923891114}, 14: {'LinkID': '103009775', 'Location': '1.3062377442937452 103.8394766018514 1.3061465225897502 103.83880185559083', 'MaximumSpeed': '39', 'MinimumSpeed': '30', 'RoadCategory': 'C', 'RoadName': 'CAIRNHILL CIRCLE', 'SpeedBand': 4, 'start_pos': '1.3062377442937452 103.8394766018514', 'end_pos': '1.3061465225897502 103.83880185559083', 'length': 0.07569159923891114}, 15: {'LinkID': '103009778', 'Location': '1.3061062153231904 103.83867686759191 1.3061465225897502 103.83880185559083', 'MaximumSpeed': '39', 'MinimumSpeed': '30', 'RoadCategory': 'C', 'RoadName': 'CAIRNHILL CIRCLE', 'SpeedBand': 4, 'start_pos': '1.3061062153231904 103.83867686759191', 'end_pos': '1.3061465225897502 103.83880185559083', 'length': 0.014599414858183689}, 16: {'LinkID': '103009779', 'Location': '1.3061465225897502 103.83880185559083 1.3061062153231904 103.83867686759191', 'MaximumSpeed': '39', 'MinimumSpeed': '30', 'RoadCategory': 'C', 'RoadName': 'CAIRNHILL CIRCLE', 'SpeedBand': 4, 'start_pos': '1.3061465225897502 103.83880185559083', 'end_pos': '1.3061062153231904 103.83867686759191', 'length': 0.014599414858183689}, 17: {'LinkID': '103010660', 'Location': '1.302827363907628 103.8358484804371 1.3037416943275602 103.83626910885548', 'MaximumSpeed': '29', 'MinimumSpeed': '20', 'RoadCategory': 'C', 'RoadName': 'BIDEFORD ROAD', 'SpeedBand': 3, 'start_pos': '1.302827363907628 103.8358484804371', 'end_pos': '1.3037416943275602 103.83626910885548', 'length': 0.11190634738932372}, 18: {'LinkID': '103011232', 'Location': '1.300445096042101 103.83481898791881 1.300894140137005 103.83506536931073', 'MaximumSpeed': '29', 'MinimumSpeed': '20', 'RoadCategory': 'C', 'RoadName': 'ORCHARD LINK', 'SpeedBand': 3, 'start_pos': '1.300445096042101 103.83481898791881', 'end_pos': '1.300894140137005 103.83506536931073', 'length': 0.056950163160843975}, 19: {'LinkID': '103054664', 'Location': '1.302827363907628 103.8358484804371 1.3027264094900806 103.83601886262524', 'MaximumSpeed': '49', 'MinimumSpeed': '40', 'RoadCategory': 'B', 'RoadName': 'ORCHARD ROAD', 'SpeedBand': 5, 'start_pos': '1.302827363907628 103.8358484804371', 'end_pos': '1.3027264094900806 103.83601886262524', 'length': 0.022017403685381663}, 20: {'LinkID': '103059762', 'Location': '1.3061062153231904 103.83867686759191 1.3058213331980262 103.83774668207505', 'MaximumSpeed': '29', 'MinimumSpeed': '20', 'RoadCategory': 'C', 'RoadName': 'CAIRNHILL CIRCLE', 'SpeedBand': 3, 'start_pos': '1.3061062153231904 103.83867686759191', 'end_pos': '1.3058213331980262 103.83774668207505', 'length': 0.1081483406533829}, 21: {'LinkID': '103059763', 'Location': '1.3058213331980262 103.83774668207505 1.3061062153231904 103.83867686759191', 'MaximumSpeed': '29', 'MinimumSpeed': '20', 'RoadCategory': 'C', 'RoadName': 'CAIRNHILL CIRCLE', 'SpeedBand': 3, 'start_pos': '1.3058213331980262 103.83774668207505', 'end_pos': '1.3061062153231904 103.83867686759191', 'length': 0.1081483406533829}, 22: {'LinkID': '103060004', 'Location': '1.302368106775232 103.83773686393967 1.302086677742335 103.83759563901584', 'MaximumSpeed': '29', 'MinimumSpeed': '20', 'RoadCategory': 'C', 'RoadName': 'CAIRNHILL ROAD', 'SpeedBand': 3, 'start_pos': '1.302368106775232 103.83773686393967', 'end_pos': '1.302086677742335 103.83759563901584', 'length': 0.03501077441460774}, 23: {'LinkID': '103060008', 'Location': '1.302086677742335 103.83759563901584 1.3019633497351588 103.8374651160595', 'MaximumSpeed': '39', 'MinimumSpeed': '30', 'RoadCategory': 'C', 'RoadName': 'CAIRNHILL ROAD', 'SpeedBand': 4, 'start_pos': '1.302086677742335 103.83759563901584', 'end_pos': '1.3019633497351588 103.8374651160595', 'length': 0.019964752073853672}, 24: {'LinkID': '103060820', 'Location': '1.30507659899449 103.83704979482759 1.3048217218355944 103.83707467521215', 'MaximumSpeed': '39', 'MinimumSpeed': '30', 'RoadCategory': 'C', 'RoadName': 'CAIRNHILL ROAD', 'SpeedBand': 4, 'start_pos': '1.30507659899449 103.83704979482759', 'end_pos': '1.3048217218355944 103.83707467521215', 'length': 0.028475689601186443}, 25: {'LinkID': '103060824', 'Location': '1.303741945372438 103.83775077582264 1.3035489358103933 103.83776887220807', 'MaximumSpeed': '39', 'MinimumSpeed': '30', 'RoadCategory': 'C', 'RoadName': 'CAIRNHILL ROAD', 'SpeedBand': 4, 'start_pos': '1.303741945372438 103.83775077582264', 'end_pos': '1.3035489358103933 103.83776887220807', 'length': 0.02155576124356948}, 26: {'LinkID': '103066000', 'Location': '1.3019633497351588 103.8374651160595 1.3019258817670438 103.83754619177634', 'MaximumSpeed': '39', 'MinimumSpeed': '30', 'RoadCategory': 'B', 'RoadName': 'ORCHARD ROAD', 'SpeedBand': 4, 'start_pos': '1.3019633497351588 103.8374651160595', 'end_pos': '1.3019258817670438 103.83754619177634', 'length': 0.009929231903315676}, 27: {'LinkID': '103072100', 'Location': '1.302472770809991 103.83647688713734 1.3022825552999076 103.83682781397152', 'MaximumSpeed': '39', 'MinimumSpeed': '30', 'RoadCategory': 'B', 'RoadName': 'ORCHARD ROAD', 'SpeedBand': 4, 'start_pos': '1.302472770809991 103.83647688713734', 'end_pos': '1.3022825552999076 103.83682781397152', 'length': 0.04437610567794697}, 28: {'LinkID': '103072132', 'Location': '1.3027264094900806 103.83601886262524 1.302472770809991 103.83647688713734', 'MaximumSpeed': '39', 'MinimumSpeed': '30', 'RoadCategory': 'B', 'RoadName': 'ORCHARD ROAD', 'SpeedBand': 4, 'start_pos': '1.3027264094900806 103.83601886262524', 'end_pos': '1.302472770809991 103.83647688713734', 'length': 0.058206122817489415}, 29: {'LinkID': '103075472', 'Location': '1.3022825552999076 103.83682781397152 1.3019633497351588 103.8374651160595', 'MaximumSpeed': '39', 'MinimumSpeed': '30', 'RoadCategory': 'B', 'RoadName': 'ORCHARD ROAD', 'SpeedBand': 4, 'start_pos': '1.3022825552999076 103.83682781397152', 'end_pos': '1.3019633497351588 103.8374651160595', 'length': 0.07924044192178051}, 30: {'LinkID': '103075952', 'Location': '1.3019633497351588 103.8374651160595 1.3015756400423288 103.83712655244358', 'MaximumSpeed': '49', 'MinimumSpeed': '40', 'RoadCategory': 'C', 'RoadName': 'GRANGE ROAD', 'SpeedBand': 5, 'start_pos': '1.3019633497351588 103.8374651160595', 'end_pos': '1.3015756400423288 103.83712655244358', 'length': 0.05722866685799926}, 31: {'LinkID': '103075956', 'Location': '1.3015756400423288 103.83712655244358 1.3010773627698577 103.83670930316063', 'MaximumSpeed': '39', 'MinimumSpeed': '30', 'RoadCategory': 'C', 'RoadName': 'GRANGE ROAD', 'SpeedBand': 4, 'start_pos': '1.3015756400423288 103.83712655244358', 'end_pos': '1.3010773627698577 103.83670930316063', 'length': 0.07225851633378581}, 32: {'LinkID': '103083856', 'Location': '1.3010773627698577 103.83670930316063 1.300896354380521 103.83653845351117', 'MaximumSpeed': '49', 'MinimumSpeed': '40', 'RoadCategory': 'C', 'RoadName': 'GRANGE ROAD', 'SpeedBand': 5, 'start_pos': '1.3010773627698577 103.83670930316063', 'end_pos': '1.300896354380521 103.83653845351117', 'length': 0.027673598712925438}, 33: {'LinkID': '103110766', 'Location': '1.305691087013594 103.83749729910596 1.3058213331980262 103.83774668207505', 'MaximumSpeed': '29', 'MinimumSpeed': '20', 'RoadCategory': 'C', 'RoadName': 'CAIRNHILL ROAD', 'SpeedBand': 3, 'start_pos': '1.305691087013594 103.83749729910596', 'end_pos': '1.3058213331980262 103.83774668207505', 'length': 0.03127793683040091}, 34: {'LinkID': '103110767', 'Location': '1.3058213331980262 103.83774668207505 1.305691087013594 103.83749729910596', 'MaximumSpeed': '29', 'MinimumSpeed': '20', 'RoadCategory': 'C', 'RoadName': 'CAIRNHILL ROAD', 'SpeedBand': 3, 'start_pos': '1.3058213331980262 103.83774668207505', 'end_pos': '1.305691087013594 103.83749729910596', 'length': 0.03127793683040091}, 35: {'LinkID': '104002012', 'Location': '1.3001427211310752 103.83555074487087 1.3003491337712214 103.83501238173247', 'MaximumSpeed': '39', 'MinimumSpeed': '30', 'RoadCategory': 'C', 'RoadName': 'ORCHARD BOULEVARD', 'SpeedBand': 4, 'start_pos': '1.3001427211310752 103.83555074487087', 'end_pos': '1.3003491337712214 103.83501238173247', 'length': 0.06409804593774446}, 36: {'LinkID': '104002152', 'Location': '1.300427116194058 103.83609093250057 1.3001427211310752 103.83555074487087', 'MaximumSpeed': '39', 'MinimumSpeed': '30', 'RoadCategory': 'C', 'RoadName': 'GRANGE ROAD', 'SpeedBand': 4, 'start_pos': '1.300427116194058 103.83609093250057', 'end_pos': '1.3001427211310752 103.83555074487087', 'length': 0.06786835577075072}, 37: {'LinkID': '104002164', 'Location': '1.300896354380521 103.83653845351117 1.3006898519373482 103.8363661661832', 'MaximumSpeed': '39', 'MinimumSpeed': '30', 'RoadCategory': 'C', 'RoadName': 'GRANGE ROAD', 'SpeedBand': 4, 'start_pos': '1.300896354380521 103.83653845351117', 'end_pos': '1.3006898519373482 103.8363661661832', 'length': 0.029901075711899365}, 38: {'LinkID': '104005090', 'Location': '1.3052352879030098 103.83703400759208 1.3056422514706816 103.83740378723826', 'MaximumSpeed': '39', 'MinimumSpeed': '30', 'RoadCategory': 'C', 'RoadName': 'CAIRNHILL ROAD', 'SpeedBand': 4, 'start_pos': '1.3052352879030098 103.83703400759208', 'end_pos': '1.3056422514706816 103.83740378723826', 'length': 0.0611355087951055}, 39: {'LinkID': '104005091', 'Location': '1.3056422514706816 103.83740378723826 1.3052352879030098 103.83703400759208', 'MaximumSpeed': '39', 'MinimumSpeed': '30', 'RoadCategory': 'C', 'RoadName': 'CAIRNHILL ROAD', 'SpeedBand': 4, 'start_pos': '1.3056422514706816 103.83740378723826', 'end_pos': '1.3052352879030098 103.83703400759208', 'length': 0.0611355087951055}, 40: {'LinkID': '107000872', 'Location': '1.3003491337712214 103.83501238173247 1.300445096042101 103.83481898791881', 'MaximumSpeed': '29', 'MinimumSpeed': '20', 'RoadCategory': 'C', 'RoadName': 'ORCHARD BOULEVARD', 'SpeedBand': 3, 'start_pos': '1.3003491337712214 103.83501238173247', 'end_pos': '1.300445096042101 103.83481898791881', 'length': 0.024001280516335356}, 41: {'LinkID': '107001232', 'Location': '1.3008190398333452 103.83683805537352 1.3006898519373482 103.8363661661832', 'MaximumSpeed': '39', 'MinimumSpeed': '30', 'RoadCategory': 'C', 'RoadName': 'SOMERSET ROAD', 'SpeedBand': 4, 'start_pos': '1.3008190398333452 103.83683805537352', 'end_pos': '1.3006898519373482 103.8363661661832', 'length': 0.05438945805408083}, 42: {'LinkID': '108001560', 'Location': '1.3006898519373482 103.8363661661832 1.300427116194058 103.83609093250057', 'MaximumSpeed': '49', 'MinimumSpeed': '40', 'RoadCategory': 'C', 'RoadName': 'GRANGE ROAD', 'SpeedBand': 5, 'start_pos': '1.3006898519373482 103.8363661661832', 'end_pos': '1.300427116194058 103.83609093250057', 'length': 0.042304463977887875}, 43: {'LinkID': '108002604', 'Location': '1.3008190398333452 103.83683805537352 1.300896354380521 103.83653845351117', 'MaximumSpeed': '39', 'MinimumSpeed': '30', 'RoadCategory': 'C', 'RoadName': 'SOMERSET ROAD', 'SpeedBand': 4, 'start_pos': '1.3008190398333452 103.83683805537352', 'end_pos': '1.300896354380521 103.83653845351117', 'length': 0.034397275323700544}, 44: {'LinkID': '108003594', 'Location': '1.3056422514706816 103.83740378723826 1.305691087013594 103.83749729910596', 'MaximumSpeed': '39', 'MinimumSpeed': '30', 'RoadCategory': 'C', 'RoadName': 'CAIRNHILL ROAD', 'SpeedBand': 4, 'start_pos': '1.3056422514706816 103.83740378723826', 'end_pos': '1.305691087013594 103.83749729910596', 'length': 0.011728213094552594}, 45: {'LinkID': '108003595', 'Location': '1.305691087013594 103.83749729910596 1.3056422514706816 103.83740378723826', 'MaximumSpeed': '29', 'MinimumSpeed': '20', 'RoadCategory': 'C', 'RoadName': 'CAIRNHILL ROAD', 'SpeedBand': 3, 'start_pos': '1.305691087013594 103.83749729910596', 'end_pos': '1.3056422514706816 103.83740378723826', 'length': 0.011728213094552594}, 46: {'LinkID': '116000660', 'Location': '1.3008190398333452 103.83683805537352 1.3019258817670438 103.83754619177634', 'MaximumSpeed': '39', 'MinimumSpeed': '30', 'RoadCategory': 'C', 'RoadName': 'GRANGE ROAD', 'SpeedBand': 4, 'start_pos': '1.3008190398333452 103.83683805537352', 'end_pos': '1.3019258817670438 103.83754619177634', 'length': 0.14609750636597657}, 47: {'LinkID': '116000664', 'Location': '1.3016262140704933 103.83548254655578 1.3024110486492908 103.83582255697608', 'MaximumSpeed': '29', 'MinimumSpeed': '20', 'RoadCategory': 'C', 'RoadName': 'ORCHARD LINK', 'SpeedBand': 3, 'start_pos': '1.3016262140704933 103.83548254655578', 'end_pos': '1.3024110486492908 103.83582255697608', 'length': 0.09510337111069356}, 48: {'LinkID': '116001108', 'Location': '1.300427116194058 103.83609093250057 1.300894140137005 103.83506536931073', 'MaximumSpeed': '39', 'MinimumSpeed': '30', 'RoadCategory': 'C', 'RoadName': 'GRANGE ROAD', 'SpeedBand': 4, 'start_pos': '1.300427116194058 103.83609093250057', 'end_pos': '1.300894140137005 103.83506536931073', 'length': 0.12527821217425486}, 49: {'LinkID': '116001284', 'Location': '1.3024110486492908 103.83582255697608 1.3027264094900806 103.83601886262524', 'MaximumSpeed': '19', 'MinimumSpeed': '10', 'RoadCategory': 'C', 'RoadName': 'ORCHARD LINK', 'SpeedBand': 2, 'start_pos': '1.3024110486492908 103.83582255697608', 'end_pos': '1.3027264094900806 103.83601886262524', 'length': 0.04130236041303594}, 50: {'LinkID': '116001312', 'Location': '1.301457025580636 103.8353929164961 1.3016262140704933 103.83548254655578', 'MaximumSpeed': '39', 'MinimumSpeed': '30', 'RoadCategory': 'C', 'RoadName': 'ORCHARD LINK', 'SpeedBand': 4, 'start_pos': '1.301457025580636 103.8353929164961', 'end_pos': '1.3016262140704933 103.83548254655578', 'length': 0.02128857228970886}, 51: {'LinkID': '116001332', 'Location': '1.3024110486492908 103.83582255697608 1.302827363907628 103.8358484804371', 'MaximumSpeed': '29', 'MinimumSpeed': '20', 'RoadCategory': 'C', 'RoadName': 'ORCHARD LINK', 'SpeedBand': 3, 'start_pos': '1.3024110486492908 103.83582255697608', 'end_pos': '1.302827363907628 103.8358484804371', 'length': 0.04638175821941191}, 52: {'LinkID': '116001372', 'Location': '1.301338273505198 103.83531169687328 1.301457025580636 103.8353929164961', 'MaximumSpeed': '49', 'MinimumSpeed': '40', 'RoadCategory': 'C', 'RoadName': 'ORCHARD LINK', 'SpeedBand': 5, 'start_pos': '1.301338273505198 103.83531169687328', 'end_pos': '1.301457025580636 103.8353929164961', 'length': 0.015996339931997654}}\n",
      "{'B': 0, 'C': 1}\n"
     ]
    }
   ],
   "source": [
    "X,nodes_params_dict,RoadCat2Index = get_features(data_file_path)\n",
    "print(X)\n",
    "print(nodes_params_dict)\n",
    "print(RoadCat2Index)"
   ]
  }
 ],
 "metadata": {
  "kernelspec": {
   "display_name": "Python 3",
   "language": "python",
   "name": "python3"
  },
  "language_info": {
   "codemirror_mode": {
    "name": "ipython",
    "version": 3
   },
   "file_extension": ".py",
   "mimetype": "text/x-python",
   "name": "python",
   "nbconvert_exporter": "python",
   "pygments_lexer": "ipython3",
   "version": "3.8.5"
  }
 },
 "nbformat": 4,
 "nbformat_minor": 1
}