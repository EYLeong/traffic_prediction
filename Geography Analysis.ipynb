{
 "cells": [
  {
   "cell_type": "code",
   "execution_count": 1,
   "metadata": {},
   "outputs": [],
   "source": [
    "import torch\n",
    "import torch.nn as nn\n",
    "\n",
    "import geopandas as gpd\n",
    "import pandas as pd\n",
    "from shapely.geometry import LineString\n",
    "import contextily as ctx\n",
    "import matplotlib.pyplot as plt\n",
    "import numpy as np\n",
    "\n",
    "import model, model_utils, preprocessing_utils"
   ]
  },
  {
   "cell_type": "code",
   "execution_count": 2,
   "metadata": {},
   "outputs": [],
   "source": [
    "num_timesteps_input = 7 # 35 minutes\n",
    "num_timesteps_output = 4 # 20 minutes\n",
    "batch_size = 32\n",
    "device = torch.device('cuda' if torch.cuda.is_available() else 'cpu')"
   ]
  },
  {
   "cell_type": "code",
   "execution_count": 3,
   "metadata": {},
   "outputs": [
    {
     "name": "stdout",
     "output_type": "stream",
     "text": [
      "Loading model in path : ./saved_models/20210425/19_56_10\n"
     ]
    }
   ],
   "source": [
    "loaded_model, loaded_optimizer = model_utils.load_model(map_location=device)"
   ]
  },
  {
   "cell_type": "code",
   "execution_count": 4,
   "metadata": {},
   "outputs": [],
   "source": [
    "raw_trunc_dir = \"./data/raw/trunc/\"\n",
    "process_dir = \"./data/processed/\"\n",
    "\n",
    "# overwrite = False means that the processing function will only run if the process data files do not exist\n",
    "# overwrite = True => functions will run regardless\n",
    "preprocessing_utils.processed(raw_trunc_dir, process_dir, overwrite=False)\n",
    "A, X, metadata, cat2index, means, stds = preprocessing_utils.load(process_dir)\n",
    "\n",
    "split_line1 = int(X.shape[2] * 0.6)\n",
    "split_line2 = int(X.shape[2] * 0.8)\n",
    "\n",
    "train_original_data = X[:, :, :split_line1]\n",
    "val_original_data = X[:, :, split_line1:split_line2]\n",
    "test_original_data = X[:, :, split_line2:]\n",
    "\n",
    "training_input, training_target = preprocessing_utils.generate_dataset(train_original_data,\n",
    "                                                   num_timesteps_input=num_timesteps_input,\n",
    "                                                   num_timesteps_output=num_timesteps_output)\n",
    "val_input, val_target = preprocessing_utils.generate_dataset(val_original_data,\n",
    "                                         num_timesteps_input=num_timesteps_input,\n",
    "                                         num_timesteps_output=num_timesteps_output)\n",
    "test_input, test_target = preprocessing_utils.generate_dataset(test_original_data,\n",
    "                                           num_timesteps_input=num_timesteps_input,\n",
    "                                           num_timesteps_output=num_timesteps_output)\n",
    "\n",
    "# input shape (num_samples ,num_vertices, num_timesteps_window, num_features)\n",
    "# output shape (num_samples ,num_vertices, num_timesteps_window)\n",
    "adj_mat = preprocessing_utils.get_normalized_adj(A)\n",
    "adj_mat = torch.from_numpy(adj_mat).to(device)"
   ]
  },
  {
   "cell_type": "code",
   "execution_count": 5,
   "metadata": {},
   "outputs": [],
   "source": [
    "loaded_model.to(device)\n",
    "with torch.no_grad():\n",
    "    predicted = model_utils.predict(loaded_model, test_input, adj_mat)"
   ]
  },
  {
   "cell_type": "code",
   "execution_count": 6,
   "metadata": {},
   "outputs": [],
   "source": [
    "def rmse_per_link(predicted, actual):\n",
    "    rmses = []\n",
    "    for i in range(predicted.shape[1]):\n",
    "        linkPreds = predicted[:,i,:]\n",
    "        linkActs = actual[:,i,:]\n",
    "        rmse = nn.MSELoss()(linkPreds, linkActs).sqrt()\n",
    "        rmses.append(rmse.item())\n",
    "    return rmses\n",
    "\n",
    "def loc_to_linestring(loc):\n",
    "    coordArr = loc.split()\n",
    "    coordArr = [float(coord) for coord in coordArr]\n",
    "    return LineString([coordArr[1::-1], coordArr[3:1:-1]])\n",
    "\n",
    "def plot_geo_performance(metadata, rmses):\n",
    "    df = pd.DataFrame(metadata).transpose()\n",
    "    df[\"RMSE\"] = rmses\n",
    "    loc = df[\"start_pos\"] + \" \" + df[\"end_pos\"]\n",
    "    linestrings = loc.apply(loc_to_linestring)\n",
    "    gdf = gpd.GeoDataFrame(df, geometry=linestrings, crs=\"EPSG:4326\")\n",
    "    gdf = gdf.to_crs('EPSG:3857')\n",
    "    fig, ax = plt.subplots(figsize=(10, 10))\n",
    "    gdf.plot(ax=ax, column=\"RMSE\", legend=True, cmap=\"OrRd\", legend_kwds={'label': 'RMSE'})\n",
    "    ax.set_xlabel(\"Longitude\")\n",
    "    ax.set_ylabel(\"Latitude\")\n",
    "    ctx.add_basemap(ax)\n",
    "    \n",
    "def plot_pred_actual(predicted, actual, idx, ts):\n",
    "    fig, ax = plt.subplots()\n",
    "    ax.plot(actual[:,idx,ts], label=\"Actual\")\n",
    "    ax.plot(predicted[:,idx,ts], label=\"Predicted\")\n",
    "    ax.set_ylabel(\"Speedband\")\n",
    "    ax.set_xlabel(\"Timestep\")\n",
    "    ax.legend()\n",
    "    ax.set_title(\"{} minutes\".format((ts+1) * 5))"
   ]
  },
  {
   "cell_type": "code",
   "execution_count": null,
   "metadata": {},
   "outputs": [],
   "source": [
    "predicted_denorm = preprocessing_utils.denormalize(predicted.to(\"cpu\"), stds[0], means[0])\n",
    "actual_denorm = preprocessing_utils.denormalize(test_target, stds[0], means[0])\n",
    "\n",
    "rmses = rmse_per_link(predicted_denorm, actual_denorm)\n",
    "plot_geo_performance(metadata, rmses)"
   ]
  },
  {
   "cell_type": "code",
   "execution_count": null,
   "metadata": {},
   "outputs": [],
   "source": [
    "worst_road = np.argmax(rmses)\n",
    "plot_pred_actual(predicted_denorm, actual_denorm, worst_road, 0)\n",
    "plot_pred_actual(predicted_denorm, actual_denorm, worst_road, 3)"
   ]
  },
  {
   "cell_type": "code",
   "execution_count": null,
   "metadata": {},
   "outputs": [],
   "source": [
    "best_road = np.argmin(rmses)\n",
    "plot_pred_actual(predicted_denorm, actual_denorm, best_road, 0)\n",
    "plot_pred_actual(predicted_denorm, actual_denorm, best_road, 3)"
   ]
  },
  {
   "cell_type": "code",
   "execution_count": null,
   "metadata": {},
   "outputs": [],
   "source": []
  }
 ],
 "metadata": {
  "kernelspec": {
   "display_name": "Python 3",
   "language": "python",
   "name": "python3"
  },
  "language_info": {
   "codemirror_mode": {
    "name": "ipython",
    "version": 3
   },
   "file_extension": ".py",
   "mimetype": "text/x-python",
   "name": "python",
   "nbconvert_exporter": "python",
   "pygments_lexer": "ipython3",
   "version": "3.7.10"
  }
 },
 "nbformat": 4,
 "nbformat_minor": 4
}
